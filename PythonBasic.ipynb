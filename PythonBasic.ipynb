{
  "nbformat": 4,
  "nbformat_minor": 0,
  "metadata": {
    "colab": {
      "provenance": []
    },
    "kernelspec": {
      "name": "python3",
      "display_name": "Python 3"
    },
    "language_info": {
      "name": "python"
    }
  },
  "cells": [
    {
      "cell_type": "markdown",
      "source": [
        "**Python Basic Theory Qusetions**"
      ],
      "metadata": {
        "id": "Y050vHsUn0tu"
      }
    },
    {
      "cell_type": "markdown",
      "source": [
        "1. What is Python, and why is it popular ?\n",
        "  - Python is commonly used for developing websites and software, task automation, data analysis, and data visualisation. Since it's relatively easy to learn, Python has been adopted by many non-programmers, such as accountants and scientists, for a variety of everyday tasks, like organising finances."
      ],
      "metadata": {
        "id": "aaVcp8eToHUA"
      }
    },
    {
      "cell_type": "markdown",
      "source": [
        "2. What is an interpreter in Python ?\n",
        "  - A Python Interpreter is a program that processes and executes Python code either from a script file or interactively, allowing programmers to test and run code line by line."
      ],
      "metadata": {
        "id": "hLIrPaeOoq4W"
      }
    },
    {
      "cell_type": "markdown",
      "source": [
        "3.  What are pre-defined keywords in Python ?\n",
        "  - Python keywords are special reserved words that have specific meanings and purposes and can’t be used for anything but those specific purposes."
      ],
      "metadata": {
        "id": "sSQuFAUeqHPF"
      }
    },
    {
      "cell_type": "markdown",
      "source": [
        "4. Can keywords be used as variable names ?\n",
        "  - Keywords define the language's syntax rules and structure, and they cannot be used as variable names. Programmers generally choose names for their variables that are meaningful to the human readers of the program to remember what the variable is used for.\n",
        "\n"
      ],
      "metadata": {
        "id": "_UGjO7m-qd94"
      }
    },
    {
      "cell_type": "markdown",
      "source": [
        "5. What is mutability in Python ?\n",
        "  - In Python, an object is considered mutable if its value can be changed after it has been created. This means that any operation that modifies a mutable object will modify the original object itself.\n",
        "  - The mutable objects that are present in python are lists, dictionaries and sets."
      ],
      "metadata": {
        "id": "RitmaGDj_nev"
      }
    },
    {
      "cell_type": "markdown",
      "source": [
        "6. Why are lists mutable, but tuples are immutable ?\n",
        "  - Lists are mutable because they are designed for dynamic data storage, allowing modifications like adding, removing, or changing elements after creation.\n",
        "  - Tuples are immutable to ensure data integrity, optimize performance, and enable use cases like dictionary keys where unchangeable data is required.\n",
        "  - This distinction allows Python to offer flexibility with lists while providing safety and efficiency with tuples. The choice between them depends on whether the data needs to be modified (use a list) or remain fixed (use a tuple)."
      ],
      "metadata": {
        "id": "rtNpDvAHB3Xw"
      }
    },
    {
      "cell_type": "markdown",
      "source": [
        "7. In Python\n",
        "  - ==\n",
        "     - Checks if the values of two objects are the same.\n",
        "     - Works by comparing the content (e.g., [1, 2] == [1, 2] returns True).\n",
        "  - is\n",
        "     - Checks if two variables refer to the exact same object in memory.\n",
        "     - Returns True only if they are the same instance (e.g., a is b is True only if a and b point to the same object)."
      ],
      "metadata": {
        "id": "g4Xhms0ACIcf"
      }
    },
    {
      "cell_type": "markdown",
      "source": [
        "8. What are logical operators in Python ?\n",
        "  - Logical operators in Python combine two or more operands and conduct logical comparisons on them.\n",
        "  - Python has three main logical operators, i.e., and, or, and not.\n",
        "    - AND (and) Operator: The and operator yields True if both operands are True; else, it returns False.\n",
        "    - OR (or) Operator: If at least one of the operands is True, the or operator returns True; otherwise, it returns False.\n",
        "    - NOT (not) Operator: The NOT operator returns the operand's inverse boolean value. If the operand is True, it does not return True; otherwise, it returns False."
      ],
      "metadata": {
        "id": "GHcZj2EdEhJ3"
      }
    },
    {
      "cell_type": "markdown",
      "source": [
        "9. What is type casting in Python ?\n",
        " - Type casting, also known as type conversion, is the process of converting one data type into another.\n",
        " - Ex: you want to change the data type of a variable from an integer 4 to a float 2.0. This is a case where you'd use type casting."
      ],
      "metadata": {
        "id": "zl5c5MY3FqSq"
      }
    },
    {
      "cell_type": "markdown",
      "source": [
        "10. What is the difference between implicit and explicit type casting ?\n",
        "  - Implicit type casting happens automatically when converting data types, while explicit type casting requires a manual instruction from the programmer to convert a value from one type to another. Both methods have their uses and importance in coding."
      ],
      "metadata": {
        "id": "FmikEPvkGFhW"
      }
    },
    {
      "cell_type": "markdown",
      "source": [
        "11. What is the purpose of conditional statements in Python ?\n",
        "  - A conditional statement in Python determines the flow of code execution and its direction based on certain conditions. It decides the control flow of a Python program according to the output of the given condition."
      ],
      "metadata": {
        "id": "XEnSKVgGGjAa"
      }
    },
    {
      "cell_type": "markdown",
      "source": [
        "12. How does the elif statement work ?\n",
        "   - The elif (short for \"else if\") statement is used in Python to check multiple conditions sequentially after an initial if statement. It allows you to handle different cases without deeply nesting if-else blocks.\n",
        "   - Ex:"
      ],
      "metadata": {
        "id": "D3rtSbvhHAaN"
      }
    },
    {
      "cell_type": "code",
      "source": [
        "grade = 85\n",
        "\n",
        "if grade >= 90:\n",
        "    print(\"A\")\n",
        "elif grade >= 80:\n",
        "    print(\"B\")  # This runs (first True condition after grade >= 90 fails)\n",
        "elif grade >= 70:\n",
        "    print(\"C\")  # Skipped\n",
        "else:\n",
        "    print(\"F\")"
      ],
      "metadata": {
        "id": "vj0X5nwhqpyF",
        "colab": {
          "base_uri": "https://localhost:8080/"
        },
        "outputId": "e1d98605-1381-4341-c5ff-d72741cc65ac"
      },
      "execution_count": 1,
      "outputs": [
        {
          "output_type": "stream",
          "name": "stdout",
          "text": [
            "B\n"
          ]
        }
      ]
    },
    {
      "cell_type": "markdown",
      "source": [
        "13. What is the difference between for and while loops ?\n",
        "   - A for loop in Python repeats executing a code block from a sequence till certain number of times. Whereas a while loop in Python repeats execution of a code block till the condition is true which is not certain."
      ],
      "metadata": {
        "id": "IrfyItGjIcTD"
      }
    },
    {
      "cell_type": "code",
      "source": [
        "i = 1\n",
        "while i < 6:\n",
        "  print(i)      # Example of while loop\n",
        "  i += 1"
      ],
      "metadata": {
        "colab": {
          "base_uri": "https://localhost:8080/"
        },
        "id": "YMIgeUS_IINJ",
        "outputId": "78dc2c69-efdf-4a6e-f4e1-ca0b662823e8"
      },
      "execution_count": 2,
      "outputs": [
        {
          "output_type": "stream",
          "name": "stdout",
          "text": [
            "1\n",
            "2\n",
            "3\n",
            "4\n",
            "5\n"
          ]
        }
      ]
    },
    {
      "cell_type": "code",
      "source": [
        "fruits = [\"apple\", \"banana\", \"cherry\"]\n",
        "for x in fruits:        # Example of for Loop\n",
        "  print(x)\n",
        "  if x == \"banana\":\n",
        "    break"
      ],
      "metadata": {
        "colab": {
          "base_uri": "https://localhost:8080/"
        },
        "id": "RvtStm3RLyW4",
        "outputId": "042f7ee9-f2f6-4656-f325-3b99216f3194"
      },
      "execution_count": 3,
      "outputs": [
        {
          "output_type": "stream",
          "name": "stdout",
          "text": [
            "apple\n",
            "banana\n"
          ]
        }
      ]
    },
    {
      "cell_type": "code",
      "source": [],
      "metadata": {
        "id": "WEj21eXwMkj4"
      },
      "execution_count": 3,
      "outputs": []
    },
    {
      "cell_type": "markdown",
      "source": [
        "**Python Basic Practical Qusetions**"
      ],
      "metadata": {
        "id": "exIunr1eMxDp"
      }
    },
    {
      "cell_type": "code",
      "source": [
        "# 1. Write a Python program to print \"Hello, World!y\n",
        "print(\"Hello, World!\")"
      ],
      "metadata": {
        "colab": {
          "base_uri": "https://localhost:8080/"
        },
        "id": "ceOyqx7jM57v",
        "outputId": "fe9e084e-c9f4-48f4-fa00-ef0164c5b820"
      },
      "execution_count": 4,
      "outputs": [
        {
          "output_type": "stream",
          "name": "stdout",
          "text": [
            "Hello, World!\n"
          ]
        }
      ]
    },
    {
      "cell_type": "code",
      "source": [
        "# 2. Write a Python program that displays your name and age\n",
        "name = \"Akash\"\n",
        "age = 22\n",
        "print(\"My name is\", name, \"and I am\", age, \"years old.\")"
      ],
      "metadata": {
        "colab": {
          "base_uri": "https://localhost:8080/"
        },
        "id": "qNqqBzt0NHv6",
        "outputId": "b70cc932-039b-4d35-edb3-fca54c59193b"
      },
      "execution_count": 5,
      "outputs": [
        {
          "output_type": "stream",
          "name": "stdout",
          "text": [
            "My name is Akash and I am 22 years old.\n"
          ]
        }
      ]
    },
    {
      "cell_type": "code",
      "source": [
        "# 3. Write code to print all the pre-defined keywords in Python using the keyword library\n",
        "help(\"keywords\")"
      ],
      "metadata": {
        "colab": {
          "base_uri": "https://localhost:8080/"
        },
        "id": "2GDLljadNSEy",
        "outputId": "538a7353-58cd-406e-f136-0f6c617bdb66"
      },
      "execution_count": 6,
      "outputs": [
        {
          "output_type": "stream",
          "name": "stdout",
          "text": [
            "\n",
            "Here is a list of the Python keywords.  Enter any keyword to get more help.\n",
            "\n",
            "False               class               from                or\n",
            "None                continue            global              pass\n",
            "True                def                 if                  raise\n",
            "and                 del                 import              return\n",
            "as                  elif                in                  try\n",
            "assert              else                is                  while\n",
            "async               except              lambda              with\n",
            "await               finally             nonlocal            yield\n",
            "break               for                 not                 \n",
            "\n"
          ]
        }
      ]
    },
    {
      "cell_type": "code",
      "source": [
        "# 4. Write a program that checks if a given word is a Python keyword.\n",
        "import keyword\n",
        "\n",
        "word = \"if\"\n",
        "\n",
        "if keyword.iskeyword(word):\n",
        "    print(f\"{word} is a Python keyword.\")\n",
        "else:\n",
        "    print(f\"{word} is not a Python keyword.\")"
      ],
      "metadata": {
        "colab": {
          "base_uri": "https://localhost:8080/"
        },
        "id": "zuDG6zR2NalH",
        "outputId": "1046b852-316d-41cd-c6fa-dc6a0fb5db13"
      },
      "execution_count": 9,
      "outputs": [
        {
          "output_type": "stream",
          "name": "stdout",
          "text": [
            "if is a Python keyword.\n"
          ]
        }
      ]
    },
    {
      "cell_type": "code",
      "source": [
        "# 5.  Create a list and tuple in Python, and demonstrate how attempting to change an element works differently for each.\n",
        "my_list = [1, 2, 3, 4]\n",
        "my_tuple = (1, 2, 3, 4)\n",
        "print(\"Original list:\", my_list)\n",
        "print(\"Original tuple:\", my_tuple)\n",
        "my_list[1] = 20\n",
        "print(\"\\nModified list:\", my_list)\n",
        "my_list.append(5)\n",
        "print(\"After append:\", my_list)\n",
        "my_list.remove(3)\n",
        "print(\"After remove:\", my_list)\n",
        "my_tuple[1] = 20\n",
        "print(\"\\nModified tuple:\", my_tuple)  # Because Tuples are immutable"
      ],
      "metadata": {
        "colab": {
          "base_uri": "https://localhost:8080/",
          "height": 297
        },
        "id": "_ufux1_POx_u",
        "outputId": "0570e83b-b523-4136-f363-ca812346f0b0"
      },
      "execution_count": 8,
      "outputs": [
        {
          "output_type": "stream",
          "name": "stdout",
          "text": [
            "Original list: [1, 2, 3, 4]\n",
            "Original tuple: (1, 2, 3, 4)\n",
            "\n",
            "Modified list: [1, 20, 3, 4]\n",
            "After append: [1, 20, 3, 4, 5]\n",
            "After remove: [1, 20, 4, 5]\n"
          ]
        },
        {
          "output_type": "error",
          "ename": "TypeError",
          "evalue": "'tuple' object does not support item assignment",
          "traceback": [
            "\u001b[0;31m---------------------------------------------------------------------------\u001b[0m",
            "\u001b[0;31mTypeError\u001b[0m                                 Traceback (most recent call last)",
            "\u001b[0;32m<ipython-input-8-c6ff14a49bb1>\u001b[0m in \u001b[0;36m<cell line: 0>\u001b[0;34m()\u001b[0m\n\u001b[1;32m     10\u001b[0m \u001b[0mmy_list\u001b[0m\u001b[0;34m.\u001b[0m\u001b[0mremove\u001b[0m\u001b[0;34m(\u001b[0m\u001b[0;36m3\u001b[0m\u001b[0;34m)\u001b[0m\u001b[0;34m\u001b[0m\u001b[0;34m\u001b[0m\u001b[0m\n\u001b[1;32m     11\u001b[0m \u001b[0mprint\u001b[0m\u001b[0;34m(\u001b[0m\u001b[0;34m\"After remove:\"\u001b[0m\u001b[0;34m,\u001b[0m \u001b[0mmy_list\u001b[0m\u001b[0;34m)\u001b[0m\u001b[0;34m\u001b[0m\u001b[0;34m\u001b[0m\u001b[0m\n\u001b[0;32m---> 12\u001b[0;31m \u001b[0mmy_tuple\u001b[0m\u001b[0;34m[\u001b[0m\u001b[0;36m1\u001b[0m\u001b[0;34m]\u001b[0m \u001b[0;34m=\u001b[0m \u001b[0;36m20\u001b[0m\u001b[0;34m\u001b[0m\u001b[0;34m\u001b[0m\u001b[0m\n\u001b[0m\u001b[1;32m     13\u001b[0m \u001b[0mprint\u001b[0m\u001b[0;34m(\u001b[0m\u001b[0;34m\"\\nModified tuple:\"\u001b[0m\u001b[0;34m,\u001b[0m \u001b[0mmy_tuple\u001b[0m\u001b[0;34m)\u001b[0m  \u001b[0;31m# Because Tuples are immutable\u001b[0m\u001b[0;34m\u001b[0m\u001b[0;34m\u001b[0m\u001b[0m\n",
            "\u001b[0;31mTypeError\u001b[0m: 'tuple' object does not support item assignment"
          ]
        }
      ]
    },
    {
      "cell_type": "code",
      "source": [
        "# 6. Write a function to demonstrate the behavior of mutable and immutable arguments.\n",
        "def modify_values(immutable, mutable):\n",
        "    immutable += 1\n",
        "    mutable.append(4)\n",
        "num = 10\n",
        "lst = [1, 2, 3]\n",
        "modify_values(num, lst)\n",
        "print(num)\n",
        "print(lst)\n"
      ],
      "metadata": {
        "colab": {
          "base_uri": "https://localhost:8080/"
        },
        "id": "4RzypxqlP3bC",
        "outputId": "2dea96bc-75f7-49d2-8dd4-82f0b5b72878"
      },
      "execution_count": 10,
      "outputs": [
        {
          "output_type": "stream",
          "name": "stdout",
          "text": [
            "10\n",
            "[1, 2, 3, 4]\n"
          ]
        }
      ]
    },
    {
      "cell_type": "code",
      "source": [
        "# 7. Write a program that performs basic arithmetic operations on two user-input numbers.\n",
        "num1 = float(input(\"Enter first number: \"))\n",
        "num2 = float(input(\"Enter second number: \"))\n",
        "sum = num1 + num2\n",
        "difference = num1 - num2\n",
        "product = num1 * num2\n",
        "quotient = num1 / num2\n",
        "print(f\"\\nResults:\")\n",
        "print(f\"{num1} + {num2} = {sum}\")\n",
        "print(f\"{num1} - {num2} = {difference}\")\n",
        "print(f\"{num1} * {num2} = {product}\")\n",
        "print(f\"{num1} / {num2} = {quotient}\")"
      ],
      "metadata": {
        "id": "dJyWAdg1SgJC",
        "colab": {
          "base_uri": "https://localhost:8080/"
        },
        "outputId": "11a27128-e74e-4501-bf82-886d3663a267"
      },
      "execution_count": 11,
      "outputs": [
        {
          "output_type": "stream",
          "name": "stdout",
          "text": [
            "Enter first number: 12\n",
            "Enter second number: 78\n",
            "\n",
            "Results:\n",
            "12.0 + 78.0 = 90.0\n",
            "12.0 - 78.0 = -66.0\n",
            "12.0 * 78.0 = 936.0\n",
            "12.0 / 78.0 = 0.15384615384615385\n"
          ]
        }
      ]
    },
    {
      "cell_type": "code",
      "source": [
        "# 8. Write a program to demonstrate the use of logical operators.\n",
        "a = 7\n",
        "b = 8\n",
        "# Logical AND\n",
        "print(\"a > 5 and b < 10:\", a > 5 and b < 10)\n",
        "# Logical OR\n",
        "print(\"a < 5 or b > 10:\", a < 5 or b > 10)\n",
        "# Logical NOT\n",
        "print(\"not (a > 5):\", not (a > 5))\n"
      ],
      "metadata": {
        "id": "yEUNDWXsT-vX",
        "colab": {
          "base_uri": "https://localhost:8080/"
        },
        "outputId": "a572ece9-cf4a-4637-fb28-ae75f1de1e4e"
      },
      "execution_count": 12,
      "outputs": [
        {
          "output_type": "stream",
          "name": "stdout",
          "text": [
            "a > 5 and b < 10: True\n",
            "a < 5 or b > 10: False\n",
            "not (a > 5): False\n"
          ]
        }
      ]
    },
    {
      "cell_type": "code",
      "source": [
        "# 9. Write a Python program to convert user input from string to integer, float, and boolean types\n",
        "x = 123\n",
        "y = str(x)\n",
        "print(y)\n",
        "print(type(y))\n",
        "z = float(x)\n",
        "print(z)\n",
        "print(type(z))\n",
        "a = bool(x)\n",
        "print(a)\n",
        "print(type(a))\n"
      ],
      "metadata": {
        "colab": {
          "base_uri": "https://localhost:8080/"
        },
        "id": "s2I-qmCNWyHu",
        "outputId": "faa7f5d9-2aa6-4687-ee56-627305f87ccb"
      },
      "execution_count": 13,
      "outputs": [
        {
          "output_type": "stream",
          "name": "stdout",
          "text": [
            "123\n",
            "<class 'str'>\n",
            "123.0\n",
            "<class 'float'>\n",
            "True\n",
            "<class 'bool'>\n"
          ]
        }
      ]
    },
    {
      "cell_type": "code",
      "source": [
        "# 10. Write code to demonstrate type casting with list elements.\n",
        "mixed_list = ['10', '5.5', 'True', 'hello']\n",
        "int_list = [int(x) for x in mixed_list[:1]]\n",
        "float_list = [float(x) for x in mixed_list[:2]]\n",
        "bool_list = [bool(x) for x in mixed_list]\n",
        "print(\"Original:\", mixed_list)\n",
        "print(\"To int:\", int_list)\n",
        "print(\"To float:\", float_list)\n",
        "print(\"To bool:\", bool_list)"
      ],
      "metadata": {
        "colab": {
          "base_uri": "https://localhost:8080/"
        },
        "id": "OZSTp3NRXOzw",
        "outputId": "4db5a93c-12f9-4738-d356-102df81995bc"
      },
      "execution_count": 14,
      "outputs": [
        {
          "output_type": "stream",
          "name": "stdout",
          "text": [
            "Original: ['10', '5.5', 'True', 'hello']\n",
            "To int: [10]\n",
            "To float: [10.0, 5.5]\n",
            "To bool: [True, True, True, True]\n"
          ]
        }
      ]
    },
    {
      "cell_type": "code",
      "source": [
        "# 11. Write a program that checks if a number is positive, negative, or zero.\n",
        "num = float(input(\"Enter a number: \"))\n",
        "\n",
        "if num > 0:\n",
        "    print(num,\"is positive\")\n",
        "elif num < 0:\n",
        "    print(num,\"is negative\")\n",
        "else:\n",
        "    print(\"The number is zero\")"
      ],
      "metadata": {
        "colab": {
          "base_uri": "https://localhost:8080/"
        },
        "id": "44pKfr6Ia2i_",
        "outputId": "5c868c5a-4d75-4ef6-9811-c07b3ab28685"
      },
      "execution_count": 15,
      "outputs": [
        {
          "output_type": "stream",
          "name": "stdout",
          "text": [
            "Enter a number: -7\n",
            "-7.0 is negative\n"
          ]
        }
      ]
    },
    {
      "cell_type": "code",
      "source": [
        "# 12. Write a for loop to print numbers from 1 to 10.\n",
        "for i in range(1,10):\n",
        "  print(i,end=\" \")"
      ],
      "metadata": {
        "colab": {
          "base_uri": "https://localhost:8080/"
        },
        "id": "WcZ1CSx2chGs",
        "outputId": "a356478b-d8ee-4d31-9157-469bf783aa53"
      },
      "execution_count": 16,
      "outputs": [
        {
          "output_type": "stream",
          "name": "stdout",
          "text": [
            "1 2 3 4 5 6 7 8 9 "
          ]
        }
      ]
    },
    {
      "cell_type": "code",
      "source": [
        "# 13. Write a Python program to find the sum of all even numbers between 1 and 50.\n",
        "sum=0;\n",
        "for i in range(2,51,2):\n",
        "  sum=sum+i\n",
        "print(\"Sum = \",sum)"
      ],
      "metadata": {
        "colab": {
          "base_uri": "https://localhost:8080/"
        },
        "id": "vZLXcTc5czJw",
        "outputId": "4f39c331-700f-4e41-bb12-7f87aefaef4c"
      },
      "execution_count": 17,
      "outputs": [
        {
          "output_type": "stream",
          "name": "stdout",
          "text": [
            "Sum =  650\n"
          ]
        }
      ]
    },
    {
      "cell_type": "code",
      "source": [
        "# 14. Write a program to reverse a string using a while loop.\n",
        "str=input(\"Enter string : \")\n",
        "while(len(str)>0):\n",
        "  print(str[len(str)-1],end=\"\")\n",
        "  str=str[:len(str)-1]"
      ],
      "metadata": {
        "colab": {
          "base_uri": "https://localhost:8080/"
        },
        "id": "oVwO66MVdTqb",
        "outputId": "4a75abfb-d64d-475a-e75b-8a9b14299e97"
      },
      "execution_count": 18,
      "outputs": [
        {
          "output_type": "stream",
          "name": "stdout",
          "text": [
            "Enter string : MADAM\n",
            "MADAM"
          ]
        }
      ]
    },
    {
      "cell_type": "code",
      "source": [
        "# 15. Write a Python program to calculate the factorial of a number provided by the user using a while loop\n",
        "n= int(input(\"Enter Number : \"))\n",
        "num=n\n",
        "fact=1\n",
        "while(n > 1):\n",
        "  fact=fact*n\n",
        "  n=n-1\n",
        "print(\"Factorial of \",num,\" is \",fact)"
      ],
      "metadata": {
        "colab": {
          "base_uri": "https://localhost:8080/"
        },
        "id": "hCWteMPwewdN",
        "outputId": "c37e35c9-f570-4b21-9448-c4b6adca7db6"
      },
      "execution_count": 22,
      "outputs": [
        {
          "output_type": "stream",
          "name": "stdout",
          "text": [
            "Enter Number : 6\n",
            "Factorial of  6  is  720\n"
          ]
        }
      ]
    },
    {
      "cell_type": "code",
      "source": [],
      "metadata": {
        "id": "P8C6n1B3fq7A"
      },
      "execution_count": null,
      "outputs": []
    }
  ]
}