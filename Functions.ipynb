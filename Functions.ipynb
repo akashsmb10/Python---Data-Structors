{
  "nbformat": 4,
  "nbformat_minor": 0,
  "metadata": {
    "colab": {
      "provenance": []
    },
    "kernelspec": {
      "name": "python3",
      "display_name": "Python 3"
    },
    "language_info": {
      "name": "python"
    }
  },
  "cells": [
    {
      "cell_type": "markdown",
      "source": [
        "# Functions\n"
      ],
      "metadata": {
        "id": "Tjxz2ql1UsNp"
      }
    },
    {
      "cell_type": "markdown",
      "source": [
        "1. What is the difference between a function and a method in Python?\n",
        "  - The difference between the method and function is that a method is called with an object and has the possibility to modify data of an object. Functions can modify and return data but they dont have an impact on objects."
      ],
      "metadata": {
        "id": "fhEXm6nBU9kM"
      }
    },
    {
      "cell_type": "markdown",
      "source": [
        "2. Explain the concept of function arguments and parameters in Python.\n",
        "  - Parameters are the input variables that are defined when defining a function. They serve as placeholders for the actual values that will be passed to the function when it is called.\n",
        "\n",
        "  - In Python, parameters are defined within the parentheses of a function definition.\n",
        "  - Arguments are the actual values that are passed to a function when it is called. In other words, they are the values that are used to replace the placeholders (parameters) in the function definition.\n",
        "\n",
        "  - In Python, arguments are passed within the parentheses of a function call."
      ],
      "metadata": {
        "id": "Q42sqljPVcWL"
      }
    },
    {
      "cell_type": "code",
      "source": [
        "# 3. What are the different ways to define and call a function in Python ?\n",
        "\n",
        "# Ways to define Functions in Python\n",
        "\n",
        "\"\"\"Standard Function Definition using def: Most common way to define a function.\"\"\"\n",
        "def greet():\n",
        "    print(\"Hello!\")\n",
        "\n",
        "\"\"\"Function with Parameters: Allows input values to be passed.\"\"\"\n",
        "def greet(name):\n",
        "    print(\"Hello,\", name)\n",
        "\n",
        "\"\"\"Function with Return Value: Returns a result to the caller.\"\"\"\n",
        "def add(a, b):\n",
        "    return a + b\n",
        "\n",
        "\"\"\"Function with Default Parameters: Uses default values if arguments are not provided.\"\"\"\n",
        "def greet(name=\"World\"):\n",
        "    print(\"Hello,\", name)\n",
        "\n",
        "# Ways to Call a Function in Python\n",
        "\n",
        "\"\"\"Simple Call:\"\"\"\n",
        "greet()\n",
        "\n",
        "\"\"\"Call with Positional Arguments:\"\"\"\n",
        "greet(\"Akash\")\n",
        "\n",
        "\"\"\"Call with Keyword Arguments:\"\"\"\n",
        "greet(name=\"Akash\")\n",
        "\n",
        "\n",
        "\n"
      ],
      "metadata": {
        "colab": {
          "base_uri": "https://localhost:8080/"
        },
        "id": "LFewk06_U7G_",
        "outputId": "bb542435-94ab-4963-c7f9-79658add170b"
      },
      "execution_count": null,
      "outputs": [
        {
          "output_type": "stream",
          "name": "stdout",
          "text": [
            "Hello, World\n",
            "Hello, Akash\n",
            "Hello, Akash\n"
          ]
        }
      ]
    },
    {
      "cell_type": "markdown",
      "source": [
        "4. What is the purpose of the `return` statement in a Python function ?\n",
        " - The return statement in Python is used to:\n",
        "       - Send a result back to the caller:\n",
        "            - It allows a function to return a value to the place where it was called.\n",
        "       - Exit a function early:\n",
        "            - When return is executed, the function stops running immediately, even if there is more code after it.\n",
        "       - Return multiple values (as a tuple):\n",
        "            - You can return more than one value at a time.\n",
        "       - Return None by default:\n",
        "            - If no return is used, or if it's written as just return, the function returns None."
      ],
      "metadata": {
        "id": "rgIgCFcnc1X9"
      }
    },
    {
      "cell_type": "markdown",
      "source": [
        "5. What are iterators in Python and how do they differ from iterables ?\n",
        "  - Iterables are objects that can be looped over (iterated) in Python. They include data structures like lists, tuples, strings, sets, and dictionaries. These objects implement the __iter__() method, which returns an iterator.\n",
        "  - In Python, iterables are typically used in loops, such as for loops, to go through each element one by one.\n",
        "  - Iterators are objects that represent a stream of data. They implement both the __iter__() and __next__() methods. The __next__() method returns the next item from the iterable each time it is called.\n",
        "  - In Python, you can get an iterator from an iterable using the built-in iter() function. The iterator keeps track of its position and raises a StopIteration error when there are no more items to return.\n",
        "  - In summary, an iterable provides an iterator, and an iterator is used to fetch data one element at a time from that iterable."
      ],
      "metadata": {
        "id": "C_mlksC5gPAT"
      }
    },
    {
      "cell_type": "markdown",
      "source": [
        "6. Explain the concept of generators in Python and how they are defined ?\n",
        " - In Python, a generator is a function that returns an iterator that produces a sequence of values when iterated over.\n",
        " - Generators are useful when we want to produce a large sequence of values, but we don't want to store all of them in memory at once.\n",
        "  "
      ],
      "metadata": {
        "id": "4DhDkhNIjEv6"
      }
    },
    {
      "cell_type": "code",
      "source": [
        "# Python Generator example:\n",
        "def count_up_to(n):\n",
        "    count = 1\n",
        "    while count <= n:\n",
        "        yield count\n",
        "        count += 1\n",
        "\n",
        "gen = count_up_to(3)\n",
        "\n",
        "for num in gen:\n",
        "    print(num)\n",
        "\n"
      ],
      "metadata": {
        "colab": {
          "base_uri": "https://localhost:8080/"
        },
        "id": "JxtL7t3lcqGM",
        "outputId": "5cee9a0a-3230-456d-95ec-b8175ab3e605"
      },
      "execution_count": null,
      "outputs": [
        {
          "output_type": "stream",
          "name": "stdout",
          "text": [
            "1\n",
            "2\n",
            "3\n"
          ]
        }
      ]
    },
    {
      "cell_type": "markdown",
      "source": [
        "7. What are the advantages of using generators over regular functions ?\n",
        " - Advantages of Generators over regular functions in Python :\n",
        "       - Memory Efficiency: Generators yield one item at a time and don’t store the entire sequence in memory, making them ideal for working with large datasets or streams of data.\n",
        "       - Lazy Evaluation: Generators produce values only when requested (on demand), which means computations are done only when needed, improving performance.\n",
        "       -Improved Performance: Since generators avoid building full lists in memory, they can run faster for tasks involving loops, especially with large data.\n",
        "       Simpler Code with yield: Generators simplify code that would otherwise require maintaining state across multiple function calls or using complex classes.\n",
        "\n",
        "\n"
      ],
      "metadata": {
        "id": "YJFnwiG3k8aA"
      }
    },
    {
      "cell_type": "markdown",
      "source": [
        "8. What is a lambda function in Python and when is it typically used ?\n",
        " - A lambda function in Python is a small, anonymous function defined using the lambda keyword. Unlike regular functions defined with def, a lambda function is written in a single line and can have any number of arguments but only one expression."
      ],
      "metadata": {
        "id": "ZxGuFJ14mOoy"
      }
    },
    {
      "cell_type": "code",
      "source": [
        "# lambda arguments: expression\n",
        "square = lambda x: x * x\n",
        "print(square(5))  # Output: 25\n",
        "\n",
        "# Typical Use Cases:\n",
        "\"\"\"Used for short, simple functions\n",
        "When the function logic is small and can fit in one line.\n",
        "\n",
        "Used with built-in functions like map(), filter(), and sorted()\"\"\"\n",
        "nums = [1, 2, 3, 4]\n",
        "squares = list(map(lambda x: x*x, nums))\n",
        "print(squares)  # Output: [1, 4, 9, 16]\n",
        "\n"
      ],
      "metadata": {
        "colab": {
          "base_uri": "https://localhost:8080/"
        },
        "id": "qknYcutLkCqq",
        "outputId": "39decd53-8fdc-456e-dd37-9656cbce96dd"
      },
      "execution_count": null,
      "outputs": [
        {
          "output_type": "stream",
          "name": "stdout",
          "text": [
            "25\n",
            "[1, 4, 9, 16]\n"
          ]
        }
      ]
    },
    {
      "cell_type": "markdown",
      "source": [
        "9. Explain the purpose and usage of the `map()` function in Python.\n",
        "  - The map() function is used to apply a given function to every item of an iterable (like a list, tuple, etc.) and return an iterator of the results."
      ],
      "metadata": {
        "id": "tX47S_xnn4nW"
      }
    },
    {
      "cell_type": "code",
      "source": [
        "# Basic Usage Examples\n",
        "\"\"\" Apply a Function to Each Element\"\"\"\n",
        "numbers = [1, 2, 3, 4]\n",
        "\n",
        "# Double each number\n",
        "doubled = map(lambda x: x * 2, numbers)\n",
        "print(list(doubled))  # Output: [2, 4, 6, 8]\n",
        "\n",
        "\"\"\" Using a Named Function \"\"\"\n",
        "def square(x):\n",
        "    return x ** 2\n",
        "\n",
        "squared = map(square, numbers)\n",
        "print(list(squared))  # Output: [1, 4, 9, 16]\n"
      ],
      "metadata": {
        "colab": {
          "base_uri": "https://localhost:8080/"
        },
        "id": "ZN6JP0nhmvt6",
        "outputId": "8730cb12-c391-408c-abf6-d734b22011f3"
      },
      "execution_count": null,
      "outputs": [
        {
          "output_type": "stream",
          "name": "stdout",
          "text": [
            "[2, 4, 6, 8]\n",
            "[1, 4, 9, 16]\n"
          ]
        }
      ]
    },
    {
      "cell_type": "markdown",
      "source": [
        "10. What is the difference between `map()`, `reduce()`, and `filter()` functions in Python ?\n",
        "  - The map() function in Python is used to apply a given function to each item of an iterable (like a list or tuple) and returns a map object containing the results. It is commonly used for transforming data, such as squaring each number in a list or converting strings to uppercase.\n",
        "  - The filter() function is used to filter elements from an iterable based on a condition defined in a function. It returns only those elements for which the function returns True, making it useful for tasks like extracting even numbers or filtering out empty strings.\n",
        "  - The reduce() function, from the functools module, is used to apply a function cumulatively to the elements of an iterable, reducing the iterable to a single value. It's typically used for operations like summing, multiplying, or finding the maximum of all items in a list."
      ],
      "metadata": {
        "id": "R_lULGBUpKRK"
      }
    },
    {
      "cell_type": "markdown",
      "source": [
        "# Practical Questions\n"
      ],
      "metadata": {
        "id": "0cewfvhLpf4M"
      }
    },
    {
      "cell_type": "code",
      "source": [
        "# 1. Write a Python function that takes a list of numbers as input and returns the sum of all even numbers in the list ?\n",
        "def sum_even_numbers(numbers):\n",
        "    \"\"\"Return the sum of all even numbers in the input list.\"\"\"\n",
        "    total = 0\n",
        "    for num in numbers:\n",
        "        if num % 2 == 0:\n",
        "            total += num\n",
        "    return total"
      ],
      "metadata": {
        "id": "YBoDznnXol_g"
      },
      "execution_count": null,
      "outputs": []
    },
    {
      "cell_type": "code",
      "source": [
        "# 2. Create a Python function that accepts a string and returns the reverse of that string.\n",
        "def reverse_string(text):\n",
        "    \"\"\"Return the reverse of the input string using a loop.\"\"\"\n",
        "    reversed_text = ''\n",
        "    for char in text:\n",
        "        reversed_text = char + reversed_text\n",
        "    return reversed_text"
      ],
      "metadata": {
        "id": "K-S239J9qUg6"
      },
      "execution_count": null,
      "outputs": []
    },
    {
      "cell_type": "code",
      "source": [
        "# 3. Implement a Python function that takes a list of integers and returns a new list containing the squares of each number.\n",
        "# Function to return list of squares\n",
        "def square_numbers(numbers):\n",
        "    return [x**2 for x in numbers]\n",
        "if __name__ == \"__main__\":\n",
        "    nums = [1, 2, 3, 4, 5]\n",
        "    squares = square_numbers(nums)\n",
        "    print(\"Original List:\", nums)\n",
        "    print(\"Squares List:\", squares)\n"
      ],
      "metadata": {
        "colab": {
          "base_uri": "https://localhost:8080/"
        },
        "id": "wbupA8jLroM9",
        "outputId": "9fdfb134-c1d6-4334-f668-f97d7a56c2b7"
      },
      "execution_count": null,
      "outputs": [
        {
          "output_type": "stream",
          "name": "stdout",
          "text": [
            "Original List: [1, 2, 3, 4, 5]\n",
            "Squares List: [1, 4, 9, 16, 25]\n"
          ]
        }
      ]
    },
    {
      "cell_type": "code",
      "source": [
        "# 4. Write a Python function that checks if a given number is prime or not from 1 to 200\n",
        "# Function to check if a number is prime\n",
        "def is_prime(n):\n",
        "    if n <= 1:\n",
        "        return False\n",
        "    for i in range(2, int(n**0.5) + 1):\n",
        "        if n % i == 0:\n",
        "            return False\n",
        "    return True\n",
        "\n",
        "# Main program: Check primes from 1 to 200\n",
        "print(\"Prime numbers from 1 to 200 are:\")\n",
        "for num in range(1, 201):\n",
        "    if is_prime(num):\n",
        "        print(num, end=' ')\n"
      ],
      "metadata": {
        "colab": {
          "base_uri": "https://localhost:8080/"
        },
        "id": "L8WNNyRgsx5z",
        "outputId": "2c3096d6-c581-4dce-90a9-97afd1e148a9"
      },
      "execution_count": null,
      "outputs": [
        {
          "output_type": "stream",
          "name": "stdout",
          "text": [
            "Prime numbers from 1 to 200 are:\n",
            "2 3 5 7 11 13 17 19 23 29 31 37 41 43 47 53 59 61 67 71 73 79 83 89 97 101 103 107 109 113 127 131 137 139 149 151 157 163 167 173 179 181 191 193 197 199 "
          ]
        }
      ]
    },
    {
      "cell_type": "code",
      "source": [
        "# 5. Create an iterator class in Python that generates the Fibonacci sequence up to a specified number of terms.\n",
        "class FibonacciIterator:\n",
        "    def __init__(self, max_terms):\n",
        "        self.max_terms = max_terms\n",
        "        self.current_term = 0\n",
        "        self.next_term = 1"
      ],
      "metadata": {
        "id": "tmIFT-QTtPm5"
      },
      "execution_count": null,
      "outputs": []
    },
    {
      "cell_type": "code",
      "source": [
        "# 6. Write a generator function in Python that yields the powers of 2 up to a given exponent.\n",
        "\n",
        "def powers_of_two(max_exponent):\n",
        "    for i in range(max_exponent + 1):\n",
        "        yield 2 ** i\n",
        "if __name__ == \"__main__\":\n",
        "    max_exp = 6\n",
        "    print(f\"Powers of 2 from 2^0 to 2^{max_exp}:\")\n",
        "\n",
        "    for value in powers_of_two(max_exp):\n",
        "        print(value, end=' ')\n"
      ],
      "metadata": {
        "colab": {
          "base_uri": "https://localhost:8080/"
        },
        "id": "MBYlp2bjtdOs",
        "outputId": "c020fc97-6fa5-49c5-b107-cf45b333a4e4"
      },
      "execution_count": null,
      "outputs": [
        {
          "output_type": "stream",
          "name": "stdout",
          "text": [
            "Powers of 2 from 2^0 to 2^6:\n",
            "1 2 4 8 16 32 64 "
          ]
        }
      ]
    },
    {
      "cell_type": "code",
      "source": [
        "# 7. Implement a generator function that reads a file line by line and yields each line as a string.\n"
      ],
      "metadata": {
        "id": "gaNJ0sNbuHqg"
      },
      "execution_count": null,
      "outputs": []
    },
    {
      "cell_type": "code",
      "source": [
        "# 8. Use a lambda function in Python to sort a list of tuples based on the second element of each tuple\n",
        "tuples_list = [(1, 5), (3, 2), (2, 8), (4, 1)]\n",
        "sorted_list = sorted(tuples_list, key=lambda x: x[1])\n",
        "print(sorted_list)"
      ],
      "metadata": {
        "colab": {
          "base_uri": "https://localhost:8080/"
        },
        "id": "7vKaxwATuXST",
        "outputId": "2c404ef1-84cd-4eac-82a6-465fdc45038c"
      },
      "execution_count": null,
      "outputs": [
        {
          "output_type": "stream",
          "name": "stdout",
          "text": [
            "[(4, 1), (3, 2), (1, 5), (2, 8)]\n"
          ]
        }
      ]
    },
    {
      "cell_type": "code",
      "source": [
        "# 9. Write a Python program that uses `map()` to convert a list of temperatures from Celsius to Fahrenheit.\n",
        "celsius_temps = [0, 10, 20, 30, 40]\n",
        "fahrenheit_temps = list(map(lambda x: (x * 9/5) + 32, celsius_temps))\n",
        "print(fahrenheit_temps)\n"
      ],
      "metadata": {
        "colab": {
          "base_uri": "https://localhost:8080/"
        },
        "id": "T8cObkjBuqsg",
        "outputId": "0600e32d-9957-4816-a4f6-0a32092d9655"
      },
      "execution_count": null,
      "outputs": [
        {
          "output_type": "stream",
          "name": "stdout",
          "text": [
            "[32.0, 50.0, 68.0, 86.0, 104.0]\n"
          ]
        }
      ]
    },
    {
      "cell_type": "code",
      "source": [
        "# 10. Create a Python program that uses `filter()` to remove all the vowels from a given string.\n",
        "def is_not_vowel(char):\n",
        "    return char.lower() not in 'aeiou'\n",
        "if __name__ == \"__main__\":\n",
        "    input_string = \"Hello, my name is Akash\"\n",
        "    result = ''.join(filter(is_not_vowel, input_string))\n",
        "    print(\"Original String:\", input_string)\n",
        "    print(\"String without vowels:\", result)\n"
      ],
      "metadata": {
        "colab": {
          "base_uri": "https://localhost:8080/"
        },
        "id": "YrRsRl44uvps",
        "outputId": "85efe64c-1d02-44a1-f45e-e19f6875bf5d"
      },
      "execution_count": null,
      "outputs": [
        {
          "output_type": "stream",
          "name": "stdout",
          "text": [
            "Original String: Hello, my name is Akash\n",
            "String without vowels: Hll, my nm s ksh\n"
          ]
        }
      ]
    },
    {
      "cell_type": "code",
      "source": [
        "# 11. Imagine an accounting routine used in a book shop. It works on a list with sublists, which look like this:\n",
        "\n",
        "\n",
        "book_orders = [\n",
        "    (34587, \"Learning Python, Mark Lutz\", 4, 40.95),\n",
        "    (98762, \"Programming Python, Mark Lutz\", 5, 56.80),\n",
        "    (77226, \"Head First Python, Paul Barry\", 3, 32.95),\n",
        "    (88112, \"Einführung in Python3, Bernd Klein\", 3, 24.99)\n",
        "]\n",
        "\n",
        "processed_orders = list(map(lambda order: (order[0],\n",
        "                    order[2] * order[3] + (10 if order[2] * order[3] < 100 else 0)),\n",
        "                    book_orders))\n",
        "print(processed_orders)\n"
      ],
      "metadata": {
        "colab": {
          "base_uri": "https://localhost:8080/"
        },
        "id": "EC8AKY6ZvDTH",
        "outputId": "ed2e6a2f-0e63-4e4f-ec50-16860cba526b"
      },
      "execution_count": null,
      "outputs": [
        {
          "output_type": "stream",
          "name": "stdout",
          "text": [
            "[(34587, 163.8), (98762, 284.0), (77226, 108.85000000000001), (88112, 84.97)]\n"
          ]
        }
      ]
    },
    {
      "cell_type": "code",
      "source": [],
      "metadata": {
        "id": "ny6wkcKKwHRz"
      },
      "execution_count": null,
      "outputs": []
    }
  ]
}