{
  "nbformat": 4,
  "nbformat_minor": 0,
  "metadata": {
    "colab": {
      "provenance": []
    },
    "kernelspec": {
      "name": "python3",
      "display_name": "Python 3"
    },
    "language_info": {
      "name": "python"
    }
  },
  "cells": [
    {
      "cell_type": "markdown",
      "source": [
        "Files & Exceptional Handling THEORY"
      ],
      "metadata": {
        "id": "ffRMO73MBAkz"
      }
    },
    {
      "cell_type": "markdown",
      "source": [
        "1. What is the difference between interpreted and compiled languages ?\n",
        " - Compiled Language:\n",
        "      - Compiled language follows at least two levels to get from source code to execution.\n",
        "      - A compiled language is converted into machine code so that the processor can execute it.\n",
        "      - The compiled programs run faster than interpreted programs.\n",
        " - Interpreted Language:\n",
        "      - Interpreted language follows one step to get from source code to execution.\n",
        "      - An interpreted language is a language in which the implementations execute instructions directly without earlier compiling a program into machine language.\n",
        "      - The interpreted programs run slower than the compiled program.\n",
        " - These are the differences between interpreted and compiled languages."
      ],
      "metadata": {
        "id": "Y2AaglA2Ccfx"
      }
    },
    {
      "cell_type": "markdown",
      "source": [
        "2. What is exception handling in Python ?\n",
        " - Python Exception Handling is the method of handling errors that occur during the execution of a program. Exception handling allows to respond to the error, instead of crashing the running program. It enables you to catch and manage errors, making your code more robust and user-friendly."
      ],
      "metadata": {
        "id": "nuweQon7DgoS"
      }
    },
    {
      "cell_type": "code",
      "execution_count": 1,
      "metadata": {
        "colab": {
          "base_uri": "https://localhost:8080/"
        },
        "id": "_bItnAOO7Pvv",
        "outputId": "4b0865bf-2b48-4b25-8bb3-a4ace6bd831f"
      },
      "outputs": [
        {
          "output_type": "stream",
          "name": "stdout",
          "text": [
            "Can't be divided by zero!\n"
          ]
        }
      ],
      "source": [
        "# Simple Exception Handling Example\n",
        "n = 10\n",
        "try:\n",
        "    res = n / 0  # This will raise a ZeroDivisionError\n",
        "\n",
        "except ZeroDivisionError:\n",
        "    print(\"Can't be divided by zero!\")\n"
      ]
    },
    {
      "cell_type": "markdown",
      "source": [
        "3. What is the purpose of the finally block in exception handling ?\n",
        " - The '**finally**' block is executed regardless of whether an exception occurred or not. It provides a way to define cleanup actions that must be performed, such as releasing resources or closing files, irrespective of the presence of exceptions."
      ],
      "metadata": {
        "id": "CxmbXfSgESRW"
      }
    },
    {
      "cell_type": "markdown",
      "source": [
        "4. What is logging in Python ?\n",
        " - logging is a means of tracking events that happen when some software runs. Logging is important for software developing, debugging, and running.\n",
        " - If you don’t have any logging record and your program crashes, there are very few chances that you detect the cause of the problem.And if you detect the cause, it will consume a lot of time.\n",
        " -With logging, you can leave a trail of breadcrumbs so that if something goes wrong, we can determine the cause of the problem."
      ],
      "metadata": {
        "id": "Yp8Z4zGWEnlT"
      }
    },
    {
      "cell_type": "markdown",
      "source": [
        "5. What is the significance of the __del__ method in Python ?\n",
        " - In Python, the __del__() method is referred to as a destructor method.\n",
        " - It is called after an object's garbage collection occurs, which happens after all references to the item have been destroyed.\n",
        " - It allows you to define specific actions that should be taken when an object is garbage collected, such as closing files, releasing locks, or closing network connections"
      ],
      "metadata": {
        "id": "Ag29512DFEGC"
      }
    },
    {
      "cell_type": "markdown",
      "source": [
        "6. What is the difference between import and from ... import in Python ?\n",
        " - The difference between import and from import in Python is:\n",
        "       - import imports an entire code library.\n",
        "       - from import imports a specific member or members of the library."
      ],
      "metadata": {
        "id": "Pcto4CyCFeRt"
      }
    },
    {
      "cell_type": "markdown",
      "source": [
        "7. How can you handle multiple exceptions in Python ?\n",
        " - Python allows you to catch multiple exceptions in a single 'except' block by specifying them as a tuple.\n",
        " - This feature is useful when different exceptions require similar handling logic. In this case, if either 'ExceptionType1' or 'ExceptionType2' is raised, the code within the 'except' block will be executed."
      ],
      "metadata": {
        "id": "jC2ZdSOUFzgK"
      }
    },
    {
      "cell_type": "code",
      "source": [
        "# Example\n",
        "try:\n",
        "    # Code that might raise an exception\n",
        "    result = 10 / 0  # Example: Division by zero\n",
        "except (ZeroDivisionError, TypeError):\n",
        "  # Changed ExceptionType1, ExceptionType2 to actual exception types\n",
        "    # Exception handling code\n",
        "    print(\"An error occurred: either division by zero or a type error.\")"
      ],
      "metadata": {
        "colab": {
          "base_uri": "https://localhost:8080/"
        },
        "id": "4UgunBe0ENKR",
        "outputId": "26b4257d-ccb4-40e2-d362-8a3d7464f97a"
      },
      "execution_count": 5,
      "outputs": [
        {
          "output_type": "stream",
          "name": "stdout",
          "text": [
            "An error occurred: either division by zero or a type error.\n"
          ]
        }
      ]
    },
    {
      "cell_type": "markdown",
      "source": [
        "8. What is the purpose of the with statement when handling files in Python ?\n",
        " - The with statement in Python simplifies resource management by automatically handling setup and cleanup, such as opening and closing files.\n",
        " - For example, instead of manually opening and closing resources using a try-finally block, the with statement manages this automatically."
      ],
      "metadata": {
        "id": "quWM1NsxGozy"
      }
    },
    {
      "cell_type": "markdown",
      "source": [
        "9. What is the difference between multithreading and multiprocessing ?\n",
        " - Multiprocessing:\n",
        "     - In Multiprocessing, CPUs are added for increasing computing power.\n",
        "     - In Multiprocessing, Many processes are executed simultaneously.\n",
        "     - Multiprocessing are classified into Symmetric and Asymmetric.\n",
        "     - In Multiprocessing, Process creation is a time-consuming process.\n",
        "     - In Multiprocessing, every process owned a separate address space.\n",
        " - Multithreading:\n",
        "     - While In Multithreading, many threads are created of a single process for increasing computing power.\n",
        "     - While in multithreading, many threads of a process are executed simultaneously.\n",
        "     While Multithreading is not classified in any categories.\n",
        "     - While in Multithreading, process creation is according to economical.\n",
        "     - While in Multithreading, a common address space is shared by all the threads."
      ],
      "metadata": {
        "id": "1jQbL15dHTKD"
      }
    },
    {
      "cell_type": "markdown",
      "source": [
        "10. What are the advantages of using logging in a program ?\n",
        "  - Easier Debugging – Logs help track errors, variable states, and execution flow, making it faster to find and fix bugs.\n",
        "  - Crash Investigation – If a program crashes, logs provide critical clues (e.g., stack traces, last actions) to diagnose the issue.\n",
        "  - Performance Monitoring – Logs can measure execution times, helping identify slow functions or bottlenecks.\n",
        "  - Security & Auditing – Records suspicious activities (e.g., failed logins) and ensures compliance with regulations.\n",
        "  - Operational Insights – Logs reveal how the system is used, helping with maintenance, updates, and user behavior analysis."
      ],
      "metadata": {
        "id": "6JoIasxBH-lH"
      }
    },
    {
      "cell_type": "markdown",
      "source": [
        "11. What is memory management in Python ?\n",
        "  - Python memory management is the process of allocating and dealing with memory so that your programs can run efficiently.\n",
        "  - One advantage of Python, compared to other programming languages, is that it can perform memory management tasks automatically."
      ],
      "metadata": {
        "id": "SPBxUEcwKC2j"
      }
    },
    {
      "cell_type": "markdown",
      "source": [
        "12. What are the basic steps involved in exception handling in Python ?\n",
        "  - The basic steps involved in exception handling:\n",
        "     - 1) You write the code that might raise an exception inside a try block.\n",
        "     - 2) If an exception occurs in the try block, it jumps to the except block. You can specify the type of exception you want to catch.\n",
        "     - 3) If no exception occurs, the else block is executed.\n",
        "     - 4) The finally block is always executed, whether an exception occurs or not. It's often used for cleanup operations (like closing files or releasing resources)."
      ],
      "metadata": {
        "id": "v2CNr-k7KbmO"
      }
    },
    {
      "cell_type": "code",
      "source": [
        "# basic steps involved in exception handling in Python\n",
        "try:\n",
        "    # risky code\n",
        "    x = 1 / 0  # Example of risky code that could raise an exception\n",
        "except ZeroDivisionError: # Replace ExceptionType with specific exception\n",
        "    # handle the error\n",
        "    print(\"Cannot divide by zero!\")\n",
        "else:\n",
        "    # runs if no exception\n",
        "    print(\"No exception occurred.\")\n",
        "finally:\n",
        "    # always runs\n",
        "    print(\"This block always runs.\")"
      ],
      "metadata": {
        "colab": {
          "base_uri": "https://localhost:8080/"
        },
        "id": "aOMb7rftGOde",
        "outputId": "28333126-8f23-473d-8757-74d26f3dce66"
      },
      "execution_count": 9,
      "outputs": [
        {
          "output_type": "stream",
          "name": "stdout",
          "text": [
            "Cannot divide by zero!\n",
            "This block always runs.\n"
          ]
        }
      ]
    },
    {
      "cell_type": "markdown",
      "source": [
        "13. Why is memory management important in Python ?\n",
        "  - Memory management is important in Python because:\n",
        "     - It improves performance by using system memory efficiently.\n",
        "     - It prevents crashes by avoiding memory overuse or overflow.\n",
        "     - It supports scalability, especially in large or data-heavy applications\n",
        "     - It reduces memory leaks by automatically clearing unused objects.\n",
        "     - It ensures program stability and smooth execution over time."
      ],
      "metadata": {
        "id": "98MwSaW3MmYp"
      }
    },
    {
      "cell_type": "markdown",
      "source": [
        "14. What is the role of try and except in exception handling ?\n",
        "  - The try block lets you test a block of code for errors.\n",
        "  - The except block lets you handle the error."
      ],
      "metadata": {
        "id": "M_-0DF2iP9co"
      }
    },
    {
      "cell_type": "code",
      "source": [
        "try:\n",
        "  print(x)\n",
        "except:\n",
        "  print(\"An exception occurred\")"
      ],
      "metadata": {
        "colab": {
          "base_uri": "https://localhost:8080/"
        },
        "id": "v40UXSj5HPA4",
        "outputId": "0b4eaa69-2e28-4ebb-f6b4-623e5dbb021e"
      },
      "execution_count": 10,
      "outputs": [
        {
          "output_type": "stream",
          "name": "stdout",
          "text": [
            "An exception occurred\n"
          ]
        }
      ]
    },
    {
      "cell_type": "markdown",
      "source": [
        "15. How does Python's garbage collection system work ?\n",
        "  - In Python, the garbage collector runs automatically and periodically to clean up objects that are no longer referenced and thus are eligible for garbage collection.\n",
        "  - However, in some cases, you may want to force garbage collection to occur immediately. You can do this using the gc. collect() function provided by the gc module."
      ],
      "metadata": {
        "id": "hOHUP2CoRrsk"
      }
    },
    {
      "cell_type": "markdown",
      "source": [
        "16. What is the purpose of the else block in exception handling ?\n",
        "  - The 'else' block is executed when there are no exceptions raised within the try block.\n",
        "  - The 'else' block is useful when you want to perform specific actions when no exceptions occur.\n",
        "  - It can be used, for example, to execute additional code if the 'try' block succeeds in its operation and enhances the program flow."
      ],
      "metadata": {
        "id": "J_OshVGVSITD"
      }
    },
    {
      "cell_type": "markdown",
      "source": [
        "17. What are the common logging levels in Python ?\n",
        "  - Python has six log levels with each one assigned a specific integer indicating the severity of the log:\n",
        "        - **Notset = 0**: This is the initial default setting of a log when it is created. It is not really relevant and most developers will not even take notice of this category. In many circles, it has already become nonessential. The root log is usually created with level WARNING.\n",
        "        - **Debug = 10**: This level gives detailed information, useful only when a problem is being diagnosed.\n",
        "        - **Info = 20**: This is used to confirm that everything is working as it should.\n",
        "        - **Warning = 30**: This level indicates that something unexpected has happened or some problem is about to happen in the near future.\n",
        "        - **Error = 40**: As it implies, an error has occurred. The software was unable to perform some function.\n",
        "        - **Critical = 50**: A serious error has occurred. The program itself may shut down or not be able to continue running properly."
      ],
      "metadata": {
        "id": "H_IvaTM1SUVQ"
      }
    },
    {
      "cell_type": "markdown",
      "source": [
        "18. What is the difference between os.fork() and multiprocessing in Python ?\n",
        "  - The difference between os.fork() and multiprocessing in Python:\n",
        "         - os.fork() is a low-level function that creates a child process by duplicating the current process.\n",
        "         - multiprocessing is a high-level built-in Python module that makes it easier to create and manage multiple processes.\n",
        "         - os.fork() gives you less control and requires manual handling of communication between processes.\n",
        "         - multiprocessing provides features like Process class, Queues, Pipes, and Pools for easy communication and task management.\n",
        "         - Use multiprocessing for cross-platform compatibility and better readability; use os.fork() when you need low-level process control on Unix systems."
      ],
      "metadata": {
        "id": "cbt9R2GwS7Fe"
      }
    },
    {
      "cell_type": "markdown",
      "source": [
        "19. What is the importance of closing a file in Python ?\n",
        "  - Closing files in Python is an essential practice that helps maintain data integrity, prevent resource leaks, and ensure the reliability of your applications. By mastering file handling techniques, you can write more robust and efficient Python code that effectively manages file resources."
      ],
      "metadata": {
        "id": "Zd40mBipTZmh"
      }
    },
    {
      "cell_type": "markdown",
      "source": [
        "20. What is the difference between file.read() and file.readline() in Python ?\n",
        "  - The `read()` method in Python is used to read a specific number of characters from a file or input stream, while the `readline()` method is used to read a single line from a file or input stream.\n",
        "  - The `read()` method reads the entire content of the file or input stream if no size is specified, while the `readline()` method reads from the current position until it encounters a newline character.\n",
        "  - The `read()` method can be used to read binary data or text from a file, while the `readline()` method is typically used for reading lines of text.\n",
        "  - When using `read()`, you need to specify the number of characters you want to read, while `readline()` automatically reads until a newline character is encountered."
      ],
      "metadata": {
        "id": "5Hl6gOe9TlYO"
      }
    },
    {
      "cell_type": "markdown",
      "source": [
        "21. What is the logging module in Python used for ?\n",
        "  - Python logging is a module that allows you to track events that occur while your program is running.\n",
        "  - You can use logging to record information about errors, warnings, and other events that occur during program execution. And logging is a useful tool for debugging, troubleshooting, and monitoring your program."
      ],
      "metadata": {
        "id": "f6mZ4LUpUBoh"
      }
    },
    {
      "cell_type": "markdown",
      "source": [
        "22.  What is the os module in Python used for in file handling ?\n",
        "  - The OS module in Python provides a host of other functions that allow you to interact with the operating system.\n",
        "  - For example, you can use os.getcwd() to get the current working directory, os.listdir() to list all files and directories in the current directory, and os.mkdir() to create a new directory."
      ],
      "metadata": {
        "id": "DYOzBFFEUM2V"
      }
    },
    {
      "cell_type": "markdown",
      "source": [
        "23. What are the challenges associated with memory management in Python ?\n",
        "  - challenges associated with memory management in Python:\n",
        "       - Reference Cycles – Objects referring to each other can create cycles that the garbage collector might miss.\n",
        "       - Memory Leaks – Keeping unused objects referenced can lead to memory not being freed.\n",
        "       - High Memory Usage – Python’s dynamic typing and object overhead can consume more memory than lower-level languages.\n",
        "       - Difficult Debugging – Finding the exact source of memory issues can be tricky without proper tools."
      ],
      "metadata": {
        "id": "FKQJPJIdUcPk"
      }
    },
    {
      "cell_type": "markdown",
      "source": [
        "24. How do you raise an exception manually in Python ?\n",
        "  - To manually raise an exception in Python, use the raise statement. Here is an example of how to use it:\n",
        "  - In this example, the calculate_payment function raises a ValueError exception if the payment_type is not either \"Visa\" or \"Mastercard\". The try-except block catches the exception and prints the error message."
      ],
      "metadata": {
        "id": "prsCyQApVNCq"
      }
    },
    {
      "cell_type": "code",
      "source": [
        "def calculate_payment(amount, payment_type):\n",
        "    if payment_type != \"Visa\" and payment_type != \"Mastercard\":\n",
        "        raise ValueError(\"Payment type must be Visa or Mastercard\")\n",
        "    # Do the calculation using the provided amount and payment type\n",
        "    # ...\n",
        "\n",
        "try:\n",
        "    calculate_payment(100, \"Discover\")\n",
        "except ValueError as e:\n",
        "    print(e)\n"
      ],
      "metadata": {
        "colab": {
          "base_uri": "https://localhost:8080/"
        },
        "id": "dDxN7AtlRqgB",
        "outputId": "32cb883a-f595-4cb9-dce3-e8205b723a1a"
      },
      "execution_count": 11,
      "outputs": [
        {
          "output_type": "stream",
          "name": "stdout",
          "text": [
            "Payment type must be Visa or Mastercard\n"
          ]
        }
      ]
    },
    {
      "cell_type": "markdown",
      "source": [
        "25. Why is it important to use multithreading in certain applications ?\n",
        "  - Multithreading minimizes the time required for context switching compared to switching between separate processes, as threads within the same process share the same memory space and can switch more quickly. This results in reduced overhead and improved system responsiveness."
      ],
      "metadata": {
        "id": "H9tAHRUjVlxN"
      }
    },
    {
      "cell_type": "markdown",
      "source": [
        "**Files & Exceptional Handling PRACTICAL**"
      ],
      "metadata": {
        "id": "Jho5Yel8VxWr"
      }
    },
    {
      "cell_type": "code",
      "source": [
        "# 1. How can you open a file for writing in Python and write a string to it ?\n",
        "file = open(\"example.txt\", \"w\")\n",
        "file.write(\"Hello, this is Akash.\")\n",
        "file.close()\n"
      ],
      "metadata": {
        "id": "sOnKDcAiVbP4"
      },
      "execution_count": 15,
      "outputs": []
    },
    {
      "cell_type": "code",
      "source": [
        "# 2. Write a Python program to read the contents of a file and print each line.\n",
        "filename = 'example.txt'\n",
        "\n",
        "try:\n",
        "    file = open(filename, 'r')\n",
        "    lines = file.readlines()\n",
        "\n",
        "    for line in lines:\n",
        "        print(line, end='')\n",
        "\n",
        "    file.close()\n",
        "\n",
        "except FileNotFoundError:\n",
        "    print(f\"Error: The file '{filename}' was not found.\")\n",
        "except IOError:\n",
        "    print(f\"Error: Could not read the file '{filename}'.\")"
      ],
      "metadata": {
        "colab": {
          "base_uri": "https://localhost:8080/"
        },
        "id": "-a0SBmE2WMtC",
        "outputId": "d502484f-048b-4f69-82b1-455bba85cd59"
      },
      "execution_count": 16,
      "outputs": [
        {
          "output_type": "stream",
          "name": "stdout",
          "text": [
            "Hello, this is Akash."
          ]
        }
      ]
    },
    {
      "cell_type": "code",
      "source": [
        "# 3. How would you handle a case where the file doesn't exist while trying to open it for reading ?\n",
        "filename = \"example.txt\"\n",
        "\n",
        "try:\n",
        "    with open(filename, 'r') as file:\n",
        "        for line in file:\n",
        "            print(line, end='')\n",
        "\n",
        "except FileNotFoundError:\n",
        "    print(f\"Error: The file '{filename}' does not exist.\")\n",
        "except IOError as e:\n",
        "    print(f\"Error reading the file: {e}\")"
      ],
      "metadata": {
        "colab": {
          "base_uri": "https://localhost:8080/"
        },
        "id": "7kXOs2MBgRzn",
        "outputId": "00fd4481-ad4f-4a87-a8dd-cca7f5681a10"
      },
      "execution_count": 18,
      "outputs": [
        {
          "output_type": "stream",
          "name": "stdout",
          "text": [
            "Hello, this is Akash."
          ]
        }
      ]
    },
    {
      "cell_type": "code",
      "source": [
        "# 4. Write a Python script that reads from one file and writes its content to another file\n",
        "\n",
        "# Python script that reads content from one file and writes it to another file:\n",
        "\"\"\"\n",
        "with open(\"source.txt\", \"r\") as source_file:\n",
        "    content = source_file.read()  # Read the content\n",
        "\n",
        "with open(\"destination.txt\", \"w\") as destination_file:\n",
        "    destination_file.write(content) \"\"\"\n"
      ],
      "metadata": {
        "colab": {
          "base_uri": "https://localhost:8080/",
          "height": 53
        },
        "id": "QhPnOrGNhihE",
        "outputId": "b3c6dc60-e384-4a9f-b3e8-a6a38ae405e2"
      },
      "execution_count": 23,
      "outputs": [
        {
          "output_type": "execute_result",
          "data": {
            "text/plain": [
              "'\\nwith open(\"source.txt\", \"r\") as source_file:\\n    content = source_file.read()  # Read the content\\n\\nwith open(\"destination.txt\", \"w\") as destination_file:\\n    destination_file.write(content) '"
            ],
            "application/vnd.google.colaboratory.intrinsic+json": {
              "type": "string"
            }
          },
          "metadata": {},
          "execution_count": 23
        }
      ]
    },
    {
      "cell_type": "code",
      "source": [
        "# 5. How would you catch and handle division by zero error in Python ?\n",
        "try:\n",
        "    result = 10 / 0\n",
        "except ZeroDivisionError:\n",
        "    print(\"Error: Division by zero is not allowed.\")\n"
      ],
      "metadata": {
        "colab": {
          "base_uri": "https://localhost:8080/"
        },
        "id": "sYVZ_iYjiCt6",
        "outputId": "9fd7bfef-219b-4828-de6c-6d8eabf1e803"
      },
      "execution_count": 24,
      "outputs": [
        {
          "output_type": "stream",
          "name": "stdout",
          "text": [
            "Error: Division by zero is not allowed.\n"
          ]
        }
      ]
    },
    {
      "cell_type": "code",
      "source": [
        "# 6. Write a Python program that logs an error message to a log file when a division by zero exception occurs.\n",
        "import logging\n",
        "logging.basicConfig(filename='error_log.txt', level=logging.ERROR,\n",
        "                    format='%(asctime)s - %(levelname)s - %(message)s')\n",
        "\n",
        "try:\n",
        "    result = 10 / 0\n",
        "except ZeroDivisionError as e:\n",
        "    logging.error(\"Division by zero error occurred: %s\", e)\n"
      ],
      "metadata": {
        "colab": {
          "base_uri": "https://localhost:8080/"
        },
        "id": "r6gJeCnvic-X",
        "outputId": "2bffa3fe-1bbf-4517-cf14-4c5090b07d72"
      },
      "execution_count": 25,
      "outputs": [
        {
          "output_type": "stream",
          "name": "stderr",
          "text": [
            "ERROR:root:Division by zero error occurred: division by zero\n"
          ]
        }
      ]
    },
    {
      "cell_type": "code",
      "source": [
        "# 7. How do you log information at different levels (INFO, ERROR, WARNING) in Python using the logging module ?\n",
        "import logging\n",
        "logging.basicConfig(level=logging.DEBUG, format='%(levelname)s: %(message)s')\n",
        "logging.debug(\"This is a DEBUG message.\")\n",
        "logging.info(\"This is an INFO message.\")\n",
        "logging.warning(\"This is a WARNING message.\")\n",
        "logging.error(\"This is an ERROR message.\")\n",
        "logging.critical(\"This is a CRITICAL message.\")\n"
      ],
      "metadata": {
        "colab": {
          "base_uri": "https://localhost:8080/"
        },
        "id": "0-xwlhSvivAl",
        "outputId": "c8808a2c-4e36-416a-b263-03d18a9a8935"
      },
      "execution_count": 27,
      "outputs": [
        {
          "output_type": "stream",
          "name": "stderr",
          "text": [
            "WARNING:root:This is a WARNING message.\n",
            "ERROR:root:This is an ERROR message.\n",
            "CRITICAL:root:This is a CRITICAL message.\n"
          ]
        }
      ]
    },
    {
      "cell_type": "code",
      "source": [
        "# 8. Write a program to handle a file opening error using exception handling.\n",
        "try:\n",
        "\n",
        "    with open(\"non_existing_file.txt\", \"r\") as file:\n",
        "        content = file.read()\n",
        "        print(content)\n",
        "\n",
        "except FileNotFoundError as e:\n",
        "    print(\"Error: The file could not be found.\")\n",
        "    print(\"Details:\", e)\n"
      ],
      "metadata": {
        "colab": {
          "base_uri": "https://localhost:8080/"
        },
        "id": "5NAe02bii7E-",
        "outputId": "6f5766b7-993b-4850-f64f-59fe46e63653"
      },
      "execution_count": 28,
      "outputs": [
        {
          "output_type": "stream",
          "name": "stdout",
          "text": [
            "Error: The file could not be found.\n",
            "Details: [Errno 2] No such file or directory: 'non_existing_file.txt'\n"
          ]
        }
      ]
    },
    {
      "cell_type": "code",
      "source": [
        "# 9. How can you read a file line by line and store its content in a list in Python ?\n",
        "lines = []\n",
        "\n",
        "with open(\"example.txt\", \"r\") as file:\n",
        "    for line in file:\n",
        "        lines.append(line)\n",
        "\n",
        "print(lines)\n"
      ],
      "metadata": {
        "colab": {
          "base_uri": "https://localhost:8080/"
        },
        "id": "soN8WcG8jb6q",
        "outputId": "9369314f-f493-4555-ce03-db800514978d"
      },
      "execution_count": 29,
      "outputs": [
        {
          "output_type": "stream",
          "name": "stdout",
          "text": [
            "['Hello, this is Akash.']\n"
          ]
        }
      ]
    },
    {
      "cell_type": "code",
      "source": [
        "# 10. How can you append data to an existing file in Python ?\n",
        "with open(\"example.txt\", \"a\") as file:\n",
        "    file.write(\"\\nThis is appended data.\")"
      ],
      "metadata": {
        "id": "rWa-Lip9jon0"
      },
      "execution_count": 31,
      "outputs": []
    },
    {
      "cell_type": "code",
      "source": [
        "# 11.  Write a Python program that uses a try-except block to handle an error when attempting to access a dictionary key that doesn't exist\n",
        "my_dict = {'Akash': 1, 'Ankita': 2, 'Aishwarya': 3}\n",
        "\n",
        "try:\n",
        "    value = my_dict['d']\n",
        "    print(value)\n",
        "except KeyError:\n",
        "    print(\"Key 'Rani' does not exist in the dictionary.\")\n"
      ],
      "metadata": {
        "colab": {
          "base_uri": "https://localhost:8080/"
        },
        "id": "dW0vuwv-jwLu",
        "outputId": "30e3388d-1c54-4476-fad5-a9834bb1cc32"
      },
      "execution_count": 34,
      "outputs": [
        {
          "output_type": "stream",
          "name": "stdout",
          "text": [
            "Key 'Rani' does not exist in the dictionary.\n"
          ]
        }
      ]
    },
    {
      "cell_type": "code",
      "source": [
        "# 12. Write a program that demonstrates using multiple except blocks to handle different types of exceptions.\n",
        "try:\n",
        "    # Ask the user for two numbers\n",
        "    num1 = int(input(\"Enter a number: \"))\n",
        "    num2 = int(input(\"Enter another number: \"))\n",
        "\n",
        "    # Perform division\n",
        "    result = num1 / num2\n",
        "    print(\"Result:\", result)\n",
        "\n",
        "# Handle ValueError if user input is not a number\n",
        "except ValueError:\n",
        "    print(\"Error: Please enter valid integers.\")\n",
        "\n",
        "# Handle ZeroDivisionError if second number is zero\n",
        "except ZeroDivisionError:\n",
        "    print(\"Error: Cannot divide by zero.\")\n",
        "\n",
        "# Handle any other unexpected errors\n",
        "except Exception as e:\n",
        "    print(\"An unexpected error occurred:\", e)\n"
      ],
      "metadata": {
        "colab": {
          "base_uri": "https://localhost:8080/"
        },
        "id": "W3ijQjeMkBYZ",
        "outputId": "f66075bb-b1a3-49cc-9f09-6001cc4e974e"
      },
      "execution_count": 37,
      "outputs": [
        {
          "output_type": "stream",
          "name": "stdout",
          "text": [
            "Enter a number: 20\n",
            "Enter another number: 0\n",
            "Error: Cannot divide by zero.\n"
          ]
        }
      ]
    },
    {
      "cell_type": "code",
      "source": [
        "# 13. How would you check if a file exists before attempting to read it in Python ?\n",
        "import os\n",
        "\n",
        "if os.path.exists(\"ex.txt\"):\n",
        "    with open(\"ex.txt\", \"r\") as file:\n",
        "        content = file.read()\n",
        "        print(content)\n",
        "else:\n",
        "    print(\"File does not exist.\")\n",
        "\n"
      ],
      "metadata": {
        "colab": {
          "base_uri": "https://localhost:8080/"
        },
        "id": "KgrXNcdgkk16",
        "outputId": "2b363b48-5e63-4ff1-c16c-1fda1004268c"
      },
      "execution_count": 39,
      "outputs": [
        {
          "output_type": "stream",
          "name": "stdout",
          "text": [
            "File does not exist.\n"
          ]
        }
      ]
    },
    {
      "cell_type": "code",
      "source": [
        "# 14. Write a program that uses the logging module to log both informational and error messages\n",
        "import logging\n",
        "logging.basicConfig(\n",
        "    filename='app_log.txt',\n",
        "    level=logging.DEBUG,\n",
        "    format='%(asctime)s - %(levelname)s - %(message)s'\n",
        ")\n",
        "logging.info(\"The program has started successfully.\")\n",
        "\n",
        "try:\n",
        "    num1 = 10\n",
        "    num2 = 0\n",
        "    result = num1 / num2\n",
        "    logging.info(f\"Division result: {result}\")\n",
        "\n",
        "except ZeroDivisionError as e:\n",
        "    logging.error(\"Error occurred during division: %s\", e)\n",
        "logging.info(\"The program has completed execution.\")\n"
      ],
      "metadata": {
        "colab": {
          "base_uri": "https://localhost:8080/"
        },
        "id": "oBWplmSblBic",
        "outputId": "ebce274b-2608-40a7-f81d-83a78ac0a953"
      },
      "execution_count": 40,
      "outputs": [
        {
          "output_type": "stream",
          "name": "stderr",
          "text": [
            "ERROR:root:Error occurred during division: division by zero\n"
          ]
        }
      ]
    },
    {
      "cell_type": "code",
      "source": [
        "# 15. Write a Python program that prints the content of a file and handles the case when the file is empty ?\n",
        "def print_file_content(filename):\n",
        "    try:\n",
        "        with open(filename, \"r\") as file:\n",
        "            content = file.read()\n",
        "            if content.strip() == \"\":\n",
        "                print(\"The file is empty.\")\n",
        "            else:\n",
        "                print(\"File content:\")\n",
        "                print(content)\n",
        "    except FileNotFoundError:\n",
        "        print(\"Error: File not found.\")\n",
        "    except Exception as e:\n",
        "        print(\"An unexpected error occurred:\", e)\n",
        "print_file_content(\"example.txt\")\n"
      ],
      "metadata": {
        "colab": {
          "base_uri": "https://localhost:8080/"
        },
        "id": "Nto3pFT3lhVN",
        "outputId": "af1fc7db-affd-4455-d2cd-e22ac52a5d48"
      },
      "execution_count": 41,
      "outputs": [
        {
          "output_type": "stream",
          "name": "stdout",
          "text": [
            "File content:\n",
            "Hello, this is Akash.\n",
            "This is appended data.\n",
            "This is appended data.\n"
          ]
        }
      ]
    },
    {
      "source": [
        "# 16. Demonstrate how to use memory profiling to check the memory usage of a small program.\n",
        "# Import memory profiler\n",
        "!pip install memory_profiler\n",
        "from memory_profiler import profile\n",
        "\n",
        "# Define a function to profile\n",
        "@profile\n",
        "def my_function():\n",
        "    # Some dummy operations to check memory usage\n",
        "    my_list = [i for i in range(100000)]  # Create a large list\n",
        "    my_dict = {i: i*2 for i in range(10000)}  # Create a dictionary\n",
        "    return len(my_list), len(my_dict)\n",
        "\n",
        "if __name__ == \"__main__\":\n",
        "    my_function()"
      ],
      "cell_type": "code",
      "metadata": {
        "colab": {
          "base_uri": "https://localhost:8080/"
        },
        "id": "N0Yq0_fBmKKZ",
        "outputId": "388b43cc-3917-4244-f3e7-0d961ff5e788"
      },
      "execution_count": 43,
      "outputs": [
        {
          "output_type": "stream",
          "name": "stdout",
          "text": [
            "Collecting memory_profiler\n",
            "  Downloading memory_profiler-0.61.0-py3-none-any.whl.metadata (20 kB)\n",
            "Requirement already satisfied: psutil in /usr/local/lib/python3.11/dist-packages (from memory_profiler) (5.9.5)\n",
            "Downloading memory_profiler-0.61.0-py3-none-any.whl (31 kB)\n",
            "Installing collected packages: memory_profiler\n",
            "Successfully installed memory_profiler-0.61.0\n"
          ]
        },
        {
          "output_type": "stream",
          "name": "stderr",
          "text": [
            "\n",
            "PYDEV DEBUGGER WARNING:\n",
            "sys.settrace() should not be used when the debugger is being used.\n",
            "This may cause the debugger to stop working correctly.\n",
            "If this is needed, please check: \n",
            "http://pydev.blogspot.com/2007/06/why-cant-pydev-debugger-work-with.html\n",
            "to see how to restore the debug tracing back correctly.\n",
            "Call Location:\n",
            "  File \"/usr/local/lib/python3.11/dist-packages/memory_profiler.py\", line 847, in enable\n",
            "    sys.settrace(self.trace_memory_usage)\n",
            "\n",
            "\n",
            "PYDEV DEBUGGER WARNING:\n",
            "sys.settrace() should not be used when the debugger is being used.\n",
            "This may cause the debugger to stop working correctly.\n",
            "If this is needed, please check: \n",
            "http://pydev.blogspot.com/2007/06/why-cant-pydev-debugger-work-with.html\n",
            "to see how to restore the debug tracing back correctly.\n",
            "Call Location:\n",
            "  File \"/usr/local/lib/python3.11/dist-packages/memory_profiler.py\", line 850, in disable\n",
            "    sys.settrace(self._original_trace_function)\n",
            "\n"
          ]
        },
        {
          "output_type": "stream",
          "name": "stdout",
          "text": [
            "ERROR: Could not find file <ipython-input-43-6341dc522cef>\n",
            "NOTE: %mprun can only be used on functions defined in physical files, and not in the IPython environment.\n"
          ]
        }
      ]
    },
    {
      "cell_type": "code",
      "source": [
        "# 17. Write a Python program to create and write a list of numbers to a file, one number per line.\n",
        "numbers = [1, 2, 3, 4, 5, 6, 7, 8, 9, 10]\n",
        "with open(\"numbers.txt\", \"w\") as file:\n",
        "    for number in numbers:\n",
        "        file.write(f\"{number}\\n\")\n",
        "\n",
        "print(\"Numbers have been written to numbers.txt.\")\n"
      ],
      "metadata": {
        "colab": {
          "base_uri": "https://localhost:8080/"
        },
        "id": "bDVmtEMAmEaQ",
        "outputId": "299dea2b-e195-49e9-9768-188586857883"
      },
      "execution_count": 44,
      "outputs": [
        {
          "output_type": "stream",
          "name": "stdout",
          "text": [
            "Numbers have been written to numbers.txt.\n"
          ]
        }
      ]
    },
    {
      "cell_type": "code",
      "source": [
        "# 18. How would you implement a basic logging setup that logs to a file with rotation after 1MB.\n",
        "import logging\n",
        "from logging.handlers import RotatingFileHandler\n",
        "\n",
        "# Set up rotating file handler\n",
        "handler = RotatingFileHandler(\"app_log.txt\", maxBytes=1e6, backupCount=3)\n",
        "handler.setFormatter(logging.Formatter('%(asctime)s - %(levelname)s - %(message)s'))\n",
        "\n",
        "# Set up logger\n",
        "logger = logging.getLogger()\n",
        "logger.setLevel(logging.INFO)\n",
        "logger.addHandler(handler)\n",
        "\n",
        "# Log messages\n",
        "logger.info(\"Informational message.\")\n",
        "logger.error(\"Error message.\")\n"
      ],
      "metadata": {
        "colab": {
          "base_uri": "https://localhost:8080/"
        },
        "id": "tqTmRZ64me79",
        "outputId": "79b0f373-e308-49fc-df31-eb6590d205b2"
      },
      "execution_count": 45,
      "outputs": [
        {
          "output_type": "stream",
          "name": "stderr",
          "text": [
            "INFO:root:Informational message.\n",
            "ERROR:root:Error message.\n"
          ]
        }
      ]
    },
    {
      "cell_type": "code",
      "source": [
        "# 19. Write a program that handles both IndexError and KeyError using a try-except block.\n",
        "try:\n",
        "    # Simulate an IndexError (accessing an invalid index)\n",
        "    my_list = [1, 2, 3]\n",
        "    print(my_list[5])\n",
        "\n",
        "    # Simulate a KeyError (accessing a missing key in a dictionary)\n",
        "    my_dict = {\"name\": \"Alice\", \"age\": 25}\n",
        "    print(my_dict[\"address\"])\n",
        "\n",
        "except IndexError as e:\n",
        "    print(\"IndexError occurred:\", e)\n",
        "\n",
        "except KeyError as e:\n",
        "    print(\"KeyError occurred:\", e)\n"
      ],
      "metadata": {
        "colab": {
          "base_uri": "https://localhost:8080/"
        },
        "id": "qEccK111mzhs",
        "outputId": "564a27eb-e010-4e92-8819-b78c55a10ffd"
      },
      "execution_count": 46,
      "outputs": [
        {
          "output_type": "stream",
          "name": "stdout",
          "text": [
            "IndexError occurred: list index out of range\n"
          ]
        }
      ]
    },
    {
      "cell_type": "code",
      "source": [
        "# 20. How would you open a file and read its contents using a context manager in Python.\n",
        "# Using a context manager to open and read the file\n",
        "with open(\"example.txt\", \"r\") as file:\n",
        "    content = file.read()\n",
        "    print(content)\n"
      ],
      "metadata": {
        "colab": {
          "base_uri": "https://localhost:8080/"
        },
        "id": "zcg1NKUom8fH",
        "outputId": "0e9c649a-160f-4719-d7a3-a896a932823d"
      },
      "execution_count": 47,
      "outputs": [
        {
          "output_type": "stream",
          "name": "stdout",
          "text": [
            "Hello, this is Akash.\n",
            "This is appended data.\n",
            "This is appended data.\n"
          ]
        }
      ]
    },
    {
      "cell_type": "code",
      "source": [
        "# 21. Write a Python program that reads a file and prints the number of occurrences of a specific word.\n",
        "def count_word_in_file(filename, word):\n",
        "    try:\n",
        "        with open(filename, 'r') as file:\n",
        "            content = file.read()\n",
        "            word_count = content.lower().split().count(word.lower())\n",
        "            print(f\"The word '{word}' appears {word_count} times.\")\n",
        "    except FileNotFoundError:\n",
        "        print(f\"Error: The file '{filename}' does not exist.\")\n",
        "    except Exception as e:\n",
        "        print(f\"An error occurred: {e}\")\n",
        "\n",
        "# Example usage\n",
        "filename = \"example.txt\"\n",
        "word = \"python\"\n",
        "count_word_in_file(filename, word)\n"
      ],
      "metadata": {
        "colab": {
          "base_uri": "https://localhost:8080/"
        },
        "id": "hD6f22tonJHy",
        "outputId": "ad0ae8ee-2596-4bf1-9d8e-1226238e5f31"
      },
      "execution_count": 48,
      "outputs": [
        {
          "output_type": "stream",
          "name": "stdout",
          "text": [
            "The word 'python' appears 0 times.\n"
          ]
        }
      ]
    },
    {
      "cell_type": "code",
      "source": [
        "# 22. How can you check if a file is empty before attempting to read its contents.\n",
        "import os\n",
        "\n",
        "def read_file_if_not_empty(filename):\n",
        "    if os.path.getsize(filename) == 0:\n",
        "        print(f\"The file '{filename}' is empty.\")\n",
        "    else:\n",
        "        with open(filename, 'r') as file:\n",
        "            content = file.read()\n",
        "            print(\"File content:\")\n",
        "            print(content)\n",
        "\n",
        "# Example usage\n",
        "filename = \"example.txt\"\n",
        "read_file_if_not_empty(filename)\n"
      ],
      "metadata": {
        "colab": {
          "base_uri": "https://localhost:8080/"
        },
        "id": "Jvy2ZZPOnSRd",
        "outputId": "3fd4f340-bd31-4a13-9168-e2a09764f133"
      },
      "execution_count": 49,
      "outputs": [
        {
          "output_type": "stream",
          "name": "stdout",
          "text": [
            "File content:\n",
            "Hello, this is Akash.\n",
            "This is appended data.\n",
            "This is appended data.\n"
          ]
        }
      ]
    },
    {
      "cell_type": "code",
      "source": [
        "# 23. Write a Python program that writes to a log file when an error occurs during file handling.\n",
        "import logging\n",
        "\n",
        "# Set up logging to write to a log file\n",
        "logging.basicConfig(\n",
        "    filename='file_error_log.txt',\n",
        "    level=logging.ERROR,\n",
        "    format='%(asctime)s - %(levelname)s - %(message)s'\n",
        ")\n",
        "\n",
        "def write_to_file(filename, content):\n",
        "    try:\n",
        "        with open(filename, 'w') as file:\n",
        "            file.write(content)\n",
        "        print(\"Content written successfully to the file.\")\n",
        "    except Exception as e:\n",
        "        # Log the error message to the log file\n",
        "        logging.error(\"Error occurred while handling the file: %s\", e)\n",
        "        print(\"An error occurred. Please check the log file for details.\")\n",
        "\n",
        "# Example usage\n",
        "write_to_file('example.txt', 'This is a test content.')\n"
      ],
      "metadata": {
        "colab": {
          "base_uri": "https://localhost:8080/"
        },
        "id": "n5gAwK0mneAM",
        "outputId": "170a0554-f995-49e1-86a5-5addbe57cee8"
      },
      "execution_count": 50,
      "outputs": [
        {
          "output_type": "stream",
          "name": "stdout",
          "text": [
            "Content written successfully to the file.\n"
          ]
        }
      ]
    },
    {
      "cell_type": "code",
      "source": [],
      "metadata": {
        "id": "hSuu_AWGnlUG"
      },
      "execution_count": null,
      "outputs": []
    }
  ]
}