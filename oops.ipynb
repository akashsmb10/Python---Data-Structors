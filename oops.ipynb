{
  "nbformat": 4,
  "nbformat_minor": 0,
  "metadata": {
    "colab": {
      "provenance": []
    },
    "kernelspec": {
      "name": "python3",
      "display_name": "Python 3"
    },
    "language_info": {
      "name": "python"
    }
  },
  "cells": [
    {
      "cell_type": "markdown",
      "source": [
        "**Python OOPs**"
      ],
      "metadata": {
        "id": "ubUynd1PLe6E"
      }
    },
    {
      "cell_type": "markdown",
      "source": [
        "1. What is Object-Oriented Programming (OOP) ?\n",
        "  - It is a programming model based on the concept of objects and classes. In this model, programmers define the functions that can be applicable to the data structures and their data type.\n",
        "  - Object-oriented programming turns data structure into an object, including both data and functions. It encourages the reusing of these objects in the same and other programmes as well."
      ],
      "metadata": {
        "id": "rQS3r5-TLz_H"
      }
    },
    {
      "cell_type": "markdown",
      "source": [
        "2. What is a class in OOP ?\n",
        "  - In object-oriented programming, a class is a template definition of the methods and variables in a particular kind of object.\n",
        "  - Thus, an object is a specific instance of a class; it contains real values instead of variables. The class is one of the defining ideas of object-oriented programming."
      ],
      "metadata": {
        "id": "hxB-lZ7kNOYT"
      }
    },
    {
      "cell_type": "markdown",
      "source": [
        "3. What is an object in OOP ?\n",
        " - An object can be defined as a data field that has unique attributes and behavior. OOP focuses on the objects that developers want to manipulate rather than the logic required to manipulate them.\n",
        " - This approach to programming is well suited for software that is large, complex and actively updated or maintained."
      ],
      "metadata": {
        "id": "FFX1xzWlXQ0i"
      }
    },
    {
      "cell_type": "markdown",
      "source": [
        "4. What is the difference between abstraction and encapsulation ?\n",
        " - Abstraction focuses on hiding unnecessary details, emphasizing the essential characteristics of an object or system. It provides a high-level view and simplifies complexity.\n",
        " - Encapsulation focuses on bundling data and methods within a class, restricting direct access to the internal state of an object. It ensures data protection and enables controlled access to the object's attributes."
      ],
      "metadata": {
        "id": "YpHHBT63SsCg"
      }
    },
    {
      "cell_type": "markdown",
      "source": [
        "5. What are dunder methods in Python ?\n",
        "  - Python dunder methods are the special predefined methods having two prefixes and two suffix underscores in the method name. Here, the word dunder means double under (underscore).\n",
        "  - These special dunder methods are used in case of operator overloading ( they provide extended meaning beyond the predefined meaning to an operator).\n",
        "  -  Some of the examples of most common dunder methods in use are __ int __ ,__ new __ ,__ add __ ,__ len __ , and __ str __  method."
      ],
      "metadata": {
        "id": "vQ6i1rVhV7-x"
      }
    },
    {
      "cell_type": "markdown",
      "source": [
        "6. Explain the concept of inheritance in OOP ?\n",
        " - In object-oriented programming (OOP), inheritance is a mechanism that allows a class to inherit properties and behaviors from another class. It is a fundamental concept in OOP that promotes code reuse and establishes relationships between classes.\n",
        " - Inheritance in oops is based on a hierarchical relationship between classes, where a derived class (also known as a subclass or child class) inherits the characteristics of a base class (also known as a superclass or parent class).\n",
        " - The derived class extends the functionality of the base class by adding new features or overriding existing ones.\n"
      ],
      "metadata": {
        "id": "EzsreawnYPfP"
      }
    },
    {
      "cell_type": "markdown",
      "source": [
        "7. What is polymorphism in OOP ?\n",
        " - Polymorphism is another essential OOP concept that allows objects of different classes to be treated as objects of a common base class. It enables us to write code that can work with objects without knowing their exact types.\n",
        " - Polymorphism is achieved through method overriding and method overloading. Method overriding is the practice of defining a method in a subclass that already exists in the parent class.\n",
        " - Method overloading, on the other hand, is the ability to define multiple methods in the same class with the same name but different parameters."
      ],
      "metadata": {
        "id": "OWCddUcsbF_w"
      }
    },
    {
      "cell_type": "markdown",
      "source": [
        "8. How is encapsulation achieved in Python ?\n",
        "  - Encapsulation is achieved in Python through the use of classes. A class is a blueprint for creating objects, and it defines the properties and behaviors of an object.\n",
        "  - In Python, encapsulation is achieved through the use of access modifiers and getter and setter methods."
      ],
      "metadata": {
        "id": "ojv9znjebnbX"
      }
    },
    {
      "cell_type": "markdown",
      "source": [
        "9. What is a constructor in Python ?\n",
        "  - A constructor in Python is a unique function used to initialize the instance of a class. It is called automatically when an object is created.\n",
        "  - The use of constructors in Python is crucial as it is the foundation of object-oriented programming. Its primary purpose is to set initial values to data members and establish core functionalities once an object is created.\n",
        "  - In Python, __init__() is a constructor that is automatically called when an object is instantiated from a class."
      ],
      "metadata": {
        "id": "wzb1MI02cXBL"
      }
    },
    {
      "cell_type": "markdown",
      "source": [
        "10. What are class and static methods in Python ?\n",
        "  - Class Method\n",
        "      - A Python class method is a method that is defined within a class and that operates on all objects being an instance of the class. This also means that you can call the method directly on the class and the class is the first parameter of the method (often called cls).\n",
        "      - Class methods are used for operations for the whole class, for changing some class variables, or for making instances of the class using different constructors.\n",
        "  - Static Method\n",
        "      - A static method in Python means it is a method that belongs to the class. Static methods are class methods and do not have access to attributes on a class or instance of the class at their own instance or to other instances or class attributes.\n",
        "      - Unlike variables which are logically grouped inside the class, they work just like any normal functions.\n"
      ],
      "metadata": {
        "id": "JEv-n0LSdJII"
      }
    },
    {
      "cell_type": "markdown",
      "source": [
        "11. What is method overloading in Python ?\n",
        "  - The concept of method overloading in Python refers to the ability to define multiple methods of the same name, but with different parameters.\n",
        "  - In many object-oriented programming languages, overloading is used to create different implementations of a method, depending on the number or type of arguments passed."
      ],
      "metadata": {
        "id": "n1STJk9xfoo5"
      }
    },
    {
      "cell_type": "markdown",
      "source": [
        "12. What is method overriding in OOP ?\n",
        "  - Method overriding refers to when a piece of code contains two or more methods with the same name, but each one performs a different task.\n",
        "  - Taking the literal sense of the name, this means that one approach must take precedence over another.\n",
        "  - This idea refers to redefining a base class method with the same method signature in a derived class."
      ],
      "metadata": {
        "id": "AN_ueJzOf3Mu"
      }
    },
    {
      "cell_type": "markdown",
      "source": [
        "13. What is a property decorator in Python ?\n",
        "   - The Python property decorator makes attributes in a class act like read-only properties. Essentially, it lets you access methods as if they were attributes, without needing to write parentheses."
      ],
      "metadata": {
        "id": "y1wsT2sUgNEu"
      }
    },
    {
      "cell_type": "markdown",
      "source": [
        "14. Why is polymorphism important in OOP ?\n",
        "  - In programming, polymorphism allows one thing (like a function or method) to take on many forms, adapting to different situations. It's a cool way to make code flexible and versatile. That's why polymorphism important in OOPs."
      ],
      "metadata": {
        "id": "0xQopIK-ghnY"
      }
    },
    {
      "cell_type": "markdown",
      "source": [
        "15. What is an abstract class in Python ?\n",
        "  - An abstract class is like a template for other classes. It defines methods that must be included in any class that inherits from it, but it doesn’t provide the actual code for those methods.\n"
      ],
      "metadata": {
        "id": "hDPzEmHqg7E2"
      }
    },
    {
      "cell_type": "markdown",
      "source": [
        "16. What are the advantages of OOP ?\n",
        "  - Advantages of Object-Oriented Programming (OOP)\n",
        "        - Modularity & Reusability\n",
        "              - Code is organized into self-contained objects\n",
        "              - Classes can be reused across projects\n",
        "        - Encapsulation\n",
        "              - Protects data through private attributes\n",
        "              - Provides controlled access via methods\n",
        "        - Inheritance\n",
        "              - Child classes inherit from parent classes\n",
        "              - Reduces code duplication\n",
        "        - Polymorphism\n",
        "              - Same method can behave differently in different classes\n",
        "              - Supports method overriding\n",
        "        - Easier Maintenance\n",
        "              - Changes to one class don't affect others\n",
        "              - Code is more organized and manageable\n",
        "        - Better Problem-Solving\n",
        "              - Models real-world concepts effectively\n",
        "              - More intuitive program design\n",
        "        - Collaboration-Friendly\n",
        "              - Teams can work on different classes simultaneously\n",
        "              - Foundation for modern frameworks and libraries"
      ],
      "metadata": {
        "id": "pxPy-ML_hWS5"
      }
    },
    {
      "cell_type": "markdown",
      "source": [
        "17.  What is the difference between a class variable and an instance variable ?\n",
        "  - Class Method\n",
        "        - A Python class method is a method that is defined within a class and operates on all objects being an instance of that class.\n",
        "        - It takes cls (the class itself) as its first parameter, instead of self.\n",
        "        - Class methods can be called using the class name or an instance.\n",
        "        - They're often used to modify class variables or to define alternate constructors.\n",
        "  - Static Method\n",
        "        - A static method in Python is a method that belongs to the class but does not access or modify class or instance-specific data.\n",
        "        - It does not take self or cls as its first argument.\n",
        "        - It works like a regular function, but is logically grouped inside the class for organization.\n",
        "\n"
      ],
      "metadata": {
        "id": "l9HtLbGkjdQq"
      }
    },
    {
      "cell_type": "markdown",
      "source": [
        "18. What is multiple inheritance in Python ?\n",
        "  - Multiple inheritances are when a child’s class is derived from two or more parent classes. For example, you are inheriting some of the features from your father and some from your mother.\n",
        "  - In this case, we have to write the names of both parent classes inside the brackets of the child class. The child class will derive the properties from both of the classes.\n",
        "  "
      ],
      "metadata": {
        "id": "evKe-A5wnXxy"
      }
    },
    {
      "cell_type": "markdown",
      "source": [
        "19. Explain the purpose of ‘__str__’ and ‘__repr__’  methods in Python ?\n",
        " - __ str __ method\n",
        "    - The __str__ method in Python is used to define a human-readable string representation of an object.\n",
        "    - It is called by the str() function and also when you use the print() function on an object.\n",
        "    - The main purpose of __str__ is to return a string that is easy to read and meant for end users.\n",
        "    - It should return a clear and nicely formatted description of the object.\n",
        "\n",
        "\n",
        " - __ repr __ method\n",
        "    - The __repr__ method is used to define the official string representation of an object.\n",
        "    - It is called by the repr() function or when you inspect the object in the interpreter.\n",
        "    - The purpose of __repr__ is to return a string that can ideally be used to recreate the object, or at least give a detailed internal representation for debugging.\n",
        "    - If __str__ is not defined in the class, then __repr__ is used as a fallback by print() and str().\n"
      ],
      "metadata": {
        "id": "EIai8VUwn2mI"
      }
    },
    {
      "cell_type": "markdown",
      "source": [
        "20. What is the significance of the ‘super()’ function in Python ?\n",
        "  - Significance of super()\n",
        "       - Access Parent Class Methods:\n",
        "          - super() is primarily used to call methods from the parent class (or superclass) in the child class.\n",
        "          - This allows the child class to inherit and extend functionality, while still maintaining access to the parent class’s method.\n",
        "       - Multiple Inheritance:\n",
        "          - When using multiple inheritance, super() helps avoid calling the same method multiple times.\n",
        "          - It ensures that the method resolution order (MRO) is followed, which makes sure the method is called in a consistent order, reducing ambiguity and redundancy in complex inheritance hierarchies.\n",
        "       - Avoiding Explicit Parent Class Name:\n",
        "          - By using super(), you don't need to explicitly reference the parent class by name.\n",
        "          - This makes the code cleaner and more flexible, especially in cases of future changes in the class hierarchy.\n",
        "\n",
        "\n",
        "\n"
      ],
      "metadata": {
        "id": "SWSvXbEsp7JK"
      }
    },
    {
      "cell_type": "markdown",
      "source": [
        "21. What is the significance of the __del__ method in Python ?\n",
        "  - Significance of __del__\n",
        "        - Resource Cleanup:\n",
        "           - The __del__ method allows you to release external resources (e.g., file handles, network connections) when an object is destroyed. This is especially useful when the object holds resources that are not automatically freed by Python's garbage collection, such as when dealing with hardware or external APIs.\n",
        "\n",
        "        - Automatic Object Destruction:\n",
        "            - Python uses garbage collection to automatically manage memory. When an object is no longer referenced, Python automatically calls the __del__ method to clean up the object, making sure that resources are properly released.\n",
        "\n",
        "        - Avoiding Memory Leaks:\n",
        "            - Implementing __del__ properly helps prevent memory leaks by ensuring that any resources the object uses are released before it is destroyed. Without it, objects holding resources might persist in memory longer than necessary."
      ],
      "metadata": {
        "id": "trMuUEBvqsRw"
      }
    },
    {
      "cell_type": "markdown",
      "source": [
        "22. What is the difference between @staticmethod and @classmethod in Python ?\n",
        "  -  Static method\n",
        "      - Cannot access or modify class/instance data.\n",
        "      - No self or cls. It behaves like a regular function.\n",
        "      - Typically used for utility or helper functions that do not need to access any class or instance-specific data.\n",
        "  - Class method\n",
        "      - Can access and modify class-level variables and state.\n",
        "      - Takes cls (the class) as its first parameter.\n",
        "      - Used for operations that affect or need access to the class itself (e.g., modifying class-level attributes or providing alternative constructors)."
      ],
      "metadata": {
        "id": "t6JFOslXrc2E"
      }
    },
    {
      "cell_type": "markdown",
      "source": [
        "23. How does polymorphism work in Python with inheritance+\n",
        " - In Python, polymorphism with inheritance allows subclasses to redefine methods inherited from parent classes, enabling a single method name to be used with different functionalities based on the object's type.\n",
        " - This is achieved through a process called method overriding, where a subclass provides its own implementation for a method that already exists in the parent class."
      ],
      "metadata": {
        "id": "K9DipFkEsgqI"
      }
    },
    {
      "cell_type": "markdown",
      "source": [
        "24. What is method chaining in Python OOP+\n",
        "  - Methods chaining is a style of programming in which invoking multiple method calls occurs sequentially.\n",
        "  - It removes the pain of assigning variables at each intermediate step as each call performs action on same object and then returns the object to next call."
      ],
      "metadata": {
        "id": "6PbftrrGtBqM"
      }
    },
    {
      "cell_type": "markdown",
      "source": [
        "25. What is the purpose of the __ call __ method in Python ?\n",
        "  - Purpose of  __ call __:\n",
        "      - Make Objects Callable\n",
        "          - It allows objects to behave like functions, giving you flexibility to design classes that can be \"called\" with arguments.\n",
        "\n",
        "      - Encapsulate Logic\n",
        "          - You can store configuration/state inside the object and execute logic using  __ call __  combining object-oriented design with functional behavior.\n",
        "\n",
        "      - Used in Advanced Concepts\n",
        "          - Common in decorators, function wrappers, and frameworks like machine learning (e.g., model(input))."
      ],
      "metadata": {
        "id": "CYLwD4sEtakf"
      }
    },
    {
      "cell_type": "markdown",
      "source": [
        "**OOPs Practical Questions**"
      ],
      "metadata": {
        "id": "qJdn6B0kuV_n"
      }
    },
    {
      "cell_type": "code",
      "source": [
        "# 1. Create a parent class Animal with a method speak() that prints a generic message. Create a child class Dog\n",
        "# that overrides the speak() method to print \"Bark!\".\n",
        "class Animal:\n",
        "    def speak(self):\n",
        "        print(\"The animal makes a sound.\")\n",
        "class Dog(Animal):\n",
        "    def speak(self):\n",
        "        print(\"Bark!\")\n",
        "a = Animal()\n",
        "d = Dog()\n",
        "a.speak()\n",
        "d.speak()\n"
      ],
      "metadata": {
        "colab": {
          "base_uri": "https://localhost:8080/"
        },
        "id": "Li-YPwU5rb9j",
        "outputId": "8e7680ef-7b9f-493b-97f4-59b977c5d03a"
      },
      "execution_count": 1,
      "outputs": [
        {
          "output_type": "stream",
          "name": "stdout",
          "text": [
            "The animal makes a sound.\n",
            "Bark!\n"
          ]
        }
      ]
    },
    {
      "cell_type": "code",
      "source": [
        "# 2. Write a program to create an abstract class Shape with a method area(). Derive classes Circle and Rectangle\n",
        "# from it and implement the area() method in both.\n",
        "from abc import ABC, abstractmethod\n",
        "class Shape(ABC):\n",
        "    @abstractmethod\n",
        "    def area(self):\n",
        "        pass\n",
        "class Circle(Shape):\n",
        "    def __init__(self, radius):\n",
        "        self.radius = radius\n",
        "    def area(self):\n",
        "        return 3.14159 * self.radius ** 2\n",
        "class Rectangle(Shape):\n",
        "    def __init__(self, length, width):\n",
        "        self.length = length\n",
        "        self.width = width\n",
        "    def area(self):\n",
        "        return self.length * self.width\n",
        "circle = Circle(5)\n",
        "print(f\"Area of circle with radius 5: {circle.area():.2f}\")\n",
        "rectangle = Rectangle(4, 6)\n",
        "print(f\"Area of rectangle 4×6: {rectangle.area()}\")"
      ],
      "metadata": {
        "colab": {
          "base_uri": "https://localhost:8080/"
        },
        "id": "L0XhT7YGuy36",
        "outputId": "5726aca4-c396-4a69-fa97-97156edbca61"
      },
      "execution_count": 2,
      "outputs": [
        {
          "output_type": "stream",
          "name": "stdout",
          "text": [
            "Area of circle with radius 5: 78.54\n",
            "Area of rectangle 4×6: 24\n"
          ]
        }
      ]
    },
    {
      "cell_type": "code",
      "source": [
        "# 3.  Implement a multi-level inheritance scenario where a class Vehicle has an attribute type. Derive a class Car\n",
        "# and further derive a class ElectricCar that adds a battery attribute.\n",
        "# Base class\n",
        "\n",
        "class Vehicle:\n",
        "    def __init__(self, type):\n",
        "        self.type = type\n",
        "    def display(self):\n",
        "        print(f\"Vehicle type: {self.type}\")\n",
        "class Car(Vehicle):\n",
        "    def __init__(self, type, brand):\n",
        "        super().__init__(type)\n",
        "        self.brand = brand\n",
        "    def display(self):\n",
        "        super().display()\n",
        "        print(f\"Brand: {self.brand}\")\n",
        "class ElectricCar(Car):\n",
        "    def __init__(self, type, brand, battery_capacity):\n",
        "        super().__init__(type, brand)\n",
        "        self.battery_capacity = battery_capacity\n",
        "    def display(self):\n",
        "        super().display()\n",
        "        print(f\"Battery capacity: {self.battery_capacity} kWh\")\n",
        "print(\"--- Regular Vehicle ---\")\n",
        "vehicle = Vehicle(\"Truck\")\n",
        "vehicle.display()\n",
        "print(\"\\n--- Car ---\")\n",
        "car = Car(\"Sedan\", \"Toyota\")\n",
        "car.display()\n",
        "print(\"\\n--- Electric Car ---\")\n",
        "electric_car = ElectricCar(\"SUV\", \"Tesla\", 75)\n",
        "electric_car.display()"
      ],
      "metadata": {
        "colab": {
          "base_uri": "https://localhost:8080/"
        },
        "id": "-l640UEjvSZd",
        "outputId": "cc9d401d-2f3f-4c84-bc73-d4bc9f176fba"
      },
      "execution_count": 3,
      "outputs": [
        {
          "output_type": "stream",
          "name": "stdout",
          "text": [
            "--- Regular Vehicle ---\n",
            "Vehicle type: Truck\n",
            "\n",
            "--- Car ---\n",
            "Vehicle type: Sedan\n",
            "Brand: Toyota\n",
            "\n",
            "--- Electric Car ---\n",
            "Vehicle type: SUV\n",
            "Brand: Tesla\n",
            "Battery capacity: 75 kWh\n"
          ]
        }
      ]
    },
    {
      "cell_type": "code",
      "source": [
        "# 4. Demonstrate polymorphism by creating a base class Bird with a method fly(). Create two derived classes\n",
        "# Sparrow and Penguin that override the fly() method.\n",
        "class Bird:\n",
        "    def fly(self):\n",
        "        print(\"Birds can fly.\")\n",
        "class Sparrow(Bird):\n",
        "    def fly(self):\n",
        "        print(\"Sparrow flies high in the sky.\")\n",
        "class Penguin(Bird):\n",
        "    def fly(self):\n",
        "        print(\"Penguins can't fly, but they swim well.\")\n",
        "birds = [Sparrow(), Penguin()]\n",
        "for bird in birds:\n",
        "    bird.fly()\n",
        "\n"
      ],
      "metadata": {
        "colab": {
          "base_uri": "https://localhost:8080/"
        },
        "id": "xn0Gcw5lv158",
        "outputId": "7945cd98-9814-4e1d-f599-451876db9036"
      },
      "execution_count": 4,
      "outputs": [
        {
          "output_type": "stream",
          "name": "stdout",
          "text": [
            "Sparrow flies high in the sky.\n",
            "Penguins can't fly, but they swim well.\n"
          ]
        }
      ]
    },
    {
      "cell_type": "code",
      "source": [
        "# 5. Write a program to demonstrate encapsulation by creating a class BankAccount with private attributes\n",
        "# balance and methods to deposit, withdraw, and check balance.\n",
        "class BankAccount:\n",
        "    def __init__(self, initial_balance):\n",
        "        self.__balance = initial_balance\n",
        "\n",
        "    def deposit(self, amount):\n",
        "        if amount > 0:\n",
        "            self.__balance += amount\n",
        "            print(f\"Deposited ₹{amount}\")\n",
        "        else:\n",
        "            print(\"Deposit amount must be positive.\")\n",
        "\n",
        "    def withdraw(self, amount):\n",
        "        if 0 < amount <= self.__balance:\n",
        "            self.__balance -= amount\n",
        "            print(f\"Withdrew ₹{amount}\")\n",
        "        else:\n",
        "            print(\"Insufficient balance or invalid amount.\")\n",
        "\n",
        "    def check_balance(self):\n",
        "        print(f\"Current balance: ₹{self.__balance}\")\n",
        "account = BankAccount(1000)\n",
        "account.deposit(500)\n",
        "account.withdraw(300)\n",
        "account.check_balance()\n"
      ],
      "metadata": {
        "colab": {
          "base_uri": "https://localhost:8080/"
        },
        "id": "ZwAmthW-wQ2f",
        "outputId": "722cad86-4d61-443b-ac7c-0df737a8deb7"
      },
      "execution_count": 5,
      "outputs": [
        {
          "output_type": "stream",
          "name": "stdout",
          "text": [
            "Deposited ₹500\n",
            "Withdrew ₹300\n",
            "Current balance: ₹1200\n"
          ]
        }
      ]
    },
    {
      "cell_type": "code",
      "source": [
        "# 6.  Demonstrate runtime polymorphism using a method play() in a base class Instrument. Derive classes Guitar\n",
        "# and Piano that implement their own version of play().\n",
        "class Instrument:\n",
        "    def play(self):\n",
        "        print(\"Instrument is playing.\")\n",
        "class Guitar(Instrument):\n",
        "    def play(self):\n",
        "        print(\"Guitar is strumming.\")\n",
        "class Piano(Instrument):\n",
        "    def play(self):\n",
        "        print(\"Piano is playing melody.\")\n",
        "instruments = [Guitar(), Piano()]\n",
        "for instrument in instruments:\n",
        "    instrument.play()\n"
      ],
      "metadata": {
        "colab": {
          "base_uri": "https://localhost:8080/"
        },
        "id": "wwRTEbaKw4it",
        "outputId": "be083db7-595e-4982-d7e9-07b080813c08"
      },
      "execution_count": 6,
      "outputs": [
        {
          "output_type": "stream",
          "name": "stdout",
          "text": [
            "Guitar is strumming.\n",
            "Piano is playing melody.\n"
          ]
        }
      ]
    },
    {
      "cell_type": "code",
      "source": [
        "# 7. Create a class MathOperations with a class method add_numbers() to add two numbers and a static\n",
        "# method subtract_numbers() to subtract two numbers.\n",
        "class MathOperations:\n",
        "    @classmethod\n",
        "    def add_numbers(cls, a, b):\n",
        "        return a + b\n",
        "    @staticmethod\n",
        "    def subtract_numbers(a, b):\n",
        "        return a - b\n",
        "sum_result = MathOperations.add_numbers(10, 5)\n",
        "print(\"Sum:\", sum_result)\n",
        "diff_result = MathOperations.subtract_numbers(10, 5)\n",
        "print(\"Difference:\", diff_result)\n"
      ],
      "metadata": {
        "colab": {
          "base_uri": "https://localhost:8080/"
        },
        "id": "DyWyNbRgxkT6",
        "outputId": "a27fd1a6-29d8-44e1-e36b-c39df2bcea85"
      },
      "execution_count": 7,
      "outputs": [
        {
          "output_type": "stream",
          "name": "stdout",
          "text": [
            "Sum: 15\n",
            "Difference: 5\n"
          ]
        }
      ]
    },
    {
      "cell_type": "code",
      "source": [
        "# 8. Implement a class Person with a class method to count the total number of persons created.\n",
        "class Person:\n",
        "    count = 0\n",
        "    def __init__(self, name, age):\n",
        "        self.name = name\n",
        "        self.age = age\n",
        "        Person.count += 1\n",
        "    @classmethod\n",
        "    def total_persons(cls):\n",
        "        return cls.count\n",
        "p1 = Person(\"Alice\", 30)\n",
        "p2 = Person(\"Bob\", 25)\n",
        "p3 = Person(\"Charlie\", 22)\n",
        "print(\"Total persons created:\", Person.total_persons())\n"
      ],
      "metadata": {
        "colab": {
          "base_uri": "https://localhost:8080/"
        },
        "id": "edRn2aQVx5uW",
        "outputId": "5415a9c8-0225-49ed-9b5b-ef535896328c"
      },
      "execution_count": 8,
      "outputs": [
        {
          "output_type": "stream",
          "name": "stdout",
          "text": [
            "Total persons created: 3\n"
          ]
        }
      ]
    },
    {
      "cell_type": "code",
      "source": [
        "# 9. Write a class Fraction with attributes numerator and denominator. Override the str method to display the\n",
        "# fraction as \"numerator/denominator\".\n",
        "class Fraction:\n",
        "    def __init__(self, numerator, denominator):\n",
        "        self.numerator = numerator\n",
        "        self.denominator = denominator\n",
        "    def __str__(self):\n",
        "        return f\"{self.numerator}/{self.denominator}\"\n",
        "fraction1 = Fraction(3, 4)\n",
        "fraction2 = Fraction(5, 8)\n",
        "print(fraction1)\n",
        "print(fraction2)\n"
      ],
      "metadata": {
        "colab": {
          "base_uri": "https://localhost:8080/"
        },
        "id": "JpKiT-sayRGa",
        "outputId": "e017b4ac-a42e-4973-f0d5-8656be81ee54"
      },
      "execution_count": 9,
      "outputs": [
        {
          "output_type": "stream",
          "name": "stdout",
          "text": [
            "3/4\n",
            "5/8\n"
          ]
        }
      ]
    },
    {
      "cell_type": "code",
      "source": [
        "# 10. Demonstrate operator overloading by creating a class Vector and overriding the add method to add two vectors.\n",
        "class Vector:\n",
        "    def __init__(self, x, y):\n",
        "        self.x = x\n",
        "        self.y = y\n",
        "    def __add__(self, other):\n",
        "        return Vector(self.x + other.x, self.y + other.y)\n",
        "    def __str__(self):\n",
        "        return f\"({self.x}, {self.y})\"\n",
        "v1 = Vector(2, 3)\n",
        "v2 = Vector(4, 1)\n",
        "v3 = v1 + v2\n",
        "print(f\"Resultant vector: {v3}\")\n"
      ],
      "metadata": {
        "colab": {
          "base_uri": "https://localhost:8080/"
        },
        "id": "X1KVqU1AyirD",
        "outputId": "a9367249-3b59-48f3-e48e-2859685ef3ef"
      },
      "execution_count": 10,
      "outputs": [
        {
          "output_type": "stream",
          "name": "stdout",
          "text": [
            "Resultant vector: (6, 4)\n"
          ]
        }
      ]
    },
    {
      "cell_type": "code",
      "source": [
        "# 11. Create a class Person with attributes name and age. Add a method greet() that prints \"Hello, my name is\n",
        "# {name} and I am {age} years old.\"\n",
        "\n",
        "class Person:\n",
        "    def __init__(self, name, age):\n",
        "        self.name = name\n",
        "        self.age = age\n",
        "    def greet(self):\n",
        "        print(f\"Hello, my name is {self.name} and I am {self.age} years old.\")\n",
        "person1 = Person(\"Alice\", 30)\n",
        "person1.greet()\n"
      ],
      "metadata": {
        "colab": {
          "base_uri": "https://localhost:8080/"
        },
        "id": "xtSnoehUy7G6",
        "outputId": "e586eeff-d2d6-4437-e043-3e3be7d52e0e"
      },
      "execution_count": 11,
      "outputs": [
        {
          "output_type": "stream",
          "name": "stdout",
          "text": [
            "Hello, my name is Alice and I am 30 years old.\n"
          ]
        }
      ]
    },
    {
      "cell_type": "code",
      "source": [
        "# 12. Implement a class Student with attributes name and grades. Create a method average_grade() to compute\n",
        "# the average of the grades.\n",
        "\n",
        "class Student:\n",
        "    def __init__(self, name, grades):\n",
        "        self.name = name\n",
        "        self.grades = grades\n",
        "    def average_grade(self):\n",
        "        if len(self.grades) > 0:\n",
        "            return sum(self.grades) / len(self.grades)\n",
        "        else:\n",
        "            return 0\n",
        "student1 = Student(\"John\", [85, 90, 78, 92, 88])\n",
        "avg_grade = student1.average_grade()\n",
        "print(f\"{student1.name}'s average grade is: {avg_grade:.2f}\")\n"
      ],
      "metadata": {
        "colab": {
          "base_uri": "https://localhost:8080/"
        },
        "id": "UU6hOUpszOza",
        "outputId": "06566dbe-1dde-4e89-e903-48d0da9e845e"
      },
      "execution_count": 12,
      "outputs": [
        {
          "output_type": "stream",
          "name": "stdout",
          "text": [
            "John's average grade is: 86.60\n"
          ]
        }
      ]
    },
    {
      "cell_type": "code",
      "source": [
        "# 13.  Create a class Rectangle with methods set_dimensions() to set the dimensions and area() to calculate the\n",
        "# area.\n",
        "class Rectangle:\n",
        "    def __init__(self):\n",
        "        self.length = 0\n",
        "        self.width = 0\n",
        "    def set_dimensions(self, length, width):\n",
        "        self.length = length\n",
        "        self.width = width\n",
        "    def area(self):\n",
        "        return self.length * self.width\n",
        "rect = Rectangle()\n",
        "rect.set_dimensions(5, 3)\n",
        "print(f\"Area of the rectangle: {rect.area()} square units\")\n",
        "\n"
      ],
      "metadata": {
        "colab": {
          "base_uri": "https://localhost:8080/"
        },
        "id": "O3g30QuKzmgw",
        "outputId": "efe7da6e-70fe-4c7d-9096-545160cfc0c3"
      },
      "execution_count": 13,
      "outputs": [
        {
          "output_type": "stream",
          "name": "stdout",
          "text": [
            "Area of the rectangle: 15 square units\n"
          ]
        }
      ]
    },
    {
      "cell_type": "code",
      "source": [
        "# 14.  Create a class Employee with a method calculate_salary() that computes the salary based on hours worked\n",
        "# and hourly rate. Create a derived class Manager that adds a bonus to the salary.\n",
        "class Employee:\n",
        "    def __init__(self, name, hours_worked, hourly_rate):\n",
        "        self.name = name\n",
        "        self.hours_worked = hours_worked\n",
        "        self.hourly_rate = hourly_rate\n",
        "    def calculate_salary(self):\n",
        "        return self.hours_worked * self.hourly_rate\n",
        "class Manager(Employee):\n",
        "    def __init__(self, name, hours_worked, hourly_rate, bonus):\n",
        "        super().__init__(name, hours_worked, hourly_rate)\n",
        "        self.bonus = bonus\n",
        "    def calculate_salary(self):\n",
        "        base_salary = super().calculate_salary()\n",
        "        return base_salary + self.bonus\n",
        "employee = Employee(\"John\", 40, 20)\n",
        "print(f\"Employee Salary: ₹{employee.calculate_salary()}\")\n",
        "manager = Manager(\"Alice\", 40, 25, 5000)\n",
        "print(f\"Manager Salary (with bonus): ₹{manager.calculate_salary()}\")\n"
      ],
      "metadata": {
        "colab": {
          "base_uri": "https://localhost:8080/"
        },
        "id": "3D0gxPeIz_rI",
        "outputId": "102439f2-60e6-4c11-dec8-cd757fbcb525"
      },
      "execution_count": 14,
      "outputs": [
        {
          "output_type": "stream",
          "name": "stdout",
          "text": [
            "Employee Salary: ₹800\n",
            "Manager Salary (with bonus): ₹6000\n"
          ]
        }
      ]
    },
    {
      "cell_type": "code",
      "source": [
        "# 15. Create a class Product with attributes name, price, and quantity. Implement a method total_price() that\n",
        "# calculates the total price of the product.\n",
        "class Product:\n",
        "    def __init__(self, name, price, quantity):\n",
        "        self.name = name\n",
        "        self.price = price\n",
        "        self.quantity = quantity\n",
        "    def total_price(self):\n",
        "        return self.price * self.quantity\n",
        "product = Product(\"Laptop\", 50000, 2)\n",
        "print(f\"Total price of {product.name}: ₹{product.total_price()}\")\n"
      ],
      "metadata": {
        "colab": {
          "base_uri": "https://localhost:8080/"
        },
        "id": "4VOqnBn_0Vc_",
        "outputId": "8bb0a9f2-7b46-4ad8-dd27-dd37a8227ff3"
      },
      "execution_count": 15,
      "outputs": [
        {
          "output_type": "stream",
          "name": "stdout",
          "text": [
            "Total price of Laptop: ₹100000\n"
          ]
        }
      ]
    },
    {
      "cell_type": "code",
      "source": [
        "# 16. Create a class Animal with an abstract method sound(). Create two derived classes Cow and Sheep that\n",
        "# implement the sound() method.\n",
        "\n",
        "from abc import ABC, abstractmethod\n",
        "class Animal(ABC):\n",
        "\n",
        "    @abstractmethod\n",
        "    def sound(self):\n",
        "        pass\n",
        "class Cow(Animal):\n",
        "    def sound(self):\n",
        "        print(\"Moo!\")\n",
        "class Sheep(Animal):\n",
        "    def sound(self):\n",
        "        print(\"Baa!\")\n",
        "cow = Cow()\n",
        "sheep = Sheep()\n",
        "cow.sound()\n",
        "sheep.sound()\n"
      ],
      "metadata": {
        "colab": {
          "base_uri": "https://localhost:8080/"
        },
        "id": "0pscuphJ0mvS",
        "outputId": "3c0c3a9e-ad40-4f5f-e502-2c7f6f685992"
      },
      "execution_count": 16,
      "outputs": [
        {
          "output_type": "stream",
          "name": "stdout",
          "text": [
            "Moo!\n",
            "Baa!\n"
          ]
        }
      ]
    },
    {
      "cell_type": "code",
      "source": [
        "# 17. Create a class Book with attributes title, author, and year_published. Add a method get_book_info() that\n",
        "# returns a formatted string with the book's details.\n",
        "class Book:\n",
        "    def __init__(self, title, author, year_published):\n",
        "        self.title = title\n",
        "        self.author = author\n",
        "        self.year_published = year_published\n",
        "\n",
        "    def get_book_info(self):\n",
        "        return f\"'{self.title}' by {self.author}, published in {self.year_published}\"\n",
        "book1 = Book(\"The Concepts of Physics\", \"HC Verma\", 1988)\n",
        "print(book1.get_book_info())\n"
      ],
      "metadata": {
        "colab": {
          "base_uri": "https://localhost:8080/"
        },
        "id": "1wFA1Q3I09Qy",
        "outputId": "227bb68c-35e5-4fc9-977a-623be521dc65"
      },
      "execution_count": 21,
      "outputs": [
        {
          "output_type": "stream",
          "name": "stdout",
          "text": [
            "'The Concepts of Physics' by HC Verma, published in 1988\n"
          ]
        }
      ]
    },
    {
      "cell_type": "code",
      "source": [
        "# 18. Create a class House with attributes address and price. Create a derived class Mansion that adds an\n",
        "# attribute number_of_rooms.\n",
        "class House:\n",
        "    def __init__(self, address, price):\n",
        "        self.address = address\n",
        "        self.price = price\n",
        "    def get_house_info(self):\n",
        "        return f\"Address: {self.address}, Price: ₹{self.price}\"\n",
        "class Mansion(House):\n",
        "    def __init__(self, address, price, number_of_rooms):\n",
        "        super().__init__(address, price)\n",
        "        self.number_of_rooms = number_of_rooms\n",
        "    def get_mansion_info(self):\n",
        "        base_info = self.get_house_info()\n",
        "        return f\"{base_info}, Number of Rooms: {self.number_of_rooms}\"\n",
        "house = House(\"123 Main St\", 500000)\n",
        "mansion = Mansion(\"456 Luxury Ave\", 1500000, 10)\n",
        "print(house.get_house_info())\n",
        "print(mansion.get_mansion_info())\n"
      ],
      "metadata": {
        "colab": {
          "base_uri": "https://localhost:8080/"
        },
        "id": "gnNVU4Ne1K1l",
        "outputId": "ae892b8e-fff1-47b3-f05b-5bd7cb26f770"
      },
      "execution_count": 25,
      "outputs": [
        {
          "output_type": "stream",
          "name": "stdout",
          "text": [
            "Address: 123 Main St, Price: ₹500000\n",
            "Address: 456 Luxury Ave, Price: ₹1500000, Number of Rooms: 10\n"
          ]
        }
      ]
    },
    {
      "cell_type": "markdown",
      "source": [
        "**THANK YOU **"
      ],
      "metadata": {
        "id": "5pYg_aDK3H5A"
      }
    }
  ]
}